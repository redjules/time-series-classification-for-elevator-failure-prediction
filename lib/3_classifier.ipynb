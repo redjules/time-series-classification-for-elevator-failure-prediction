{
 "cells": [
  {
   "cell_type": "code",
   "execution_count": 1,
   "metadata": {},
   "outputs": [
    {
     "name": "stdout",
     "output_type": "stream",
     "text": [
      "{'pandas': '1.3.4', 'numpy': '1.21.6', 'scipy': '1.8.1', 'sklearn': '1.1.1', 'openpyxl': '3.0.9', 'seaborn': '0.11.1', 'matplotlib': '3.4.3', 'sktime': '0.12.0'}\n"
     ]
    }
   ],
   "source": [
    "# OPTIONAL: Load the \"autoreload\" extension so that code can change\n",
    "%load_ext autoreload\n",
    "# OPTIONAL: always reload modules so that as you change code in src, it gets loaded\n",
    "%autoreload 2\n",
    "\n",
    "import pandas as pd\n",
    "import numpy as np\n",
    "import sklearn\n",
    "import scipy as scp\n",
    "import openpyxl\n",
    "import matplotlib\n",
    "import matplotlib.pyplot as plt\n",
    "import seaborn as sns\n",
    "import sktime as skt\n",
    "import explainerdashboard as exd\n",
    "\n",
    "# supress this warning\n",
    "pd.options.mode.chained_assignment = None\n",
    "\n",
    "print({pkg.__name__:pkg.__version__ for pkg in [pd, np, scp, sklearn, openpyxl, sns, matplotlib, skt]})"
   ]
  },
  {
   "cell_type": "code",
   "execution_count": 2,
   "metadata": {},
   "outputs": [],
   "source": [
    "#importing sys\n",
    "import sys\n",
    "  \n",
    "# adding src to the system path\n",
    "sys.path.insert(0, '../src')"
   ]
  },
  {
   "cell_type": "markdown",
   "metadata": {},
   "source": [
    "### Traditional ML using summary stats"
   ]
  },
  {
   "cell_type": "code",
   "execution_count": 3,
   "metadata": {},
   "outputs": [],
   "source": [
    "# this function creates the summary statistics of each series\n",
    "from ml_pipeline.featureset  import make_summary_stats_input"
   ]
  },
  {
   "cell_type": "code",
   "execution_count": 4,
   "metadata": {},
   "outputs": [],
   "source": [
    "# load the data\n",
    "train = pd.read_csv('../input/train/data.csv',parse_dates=['Time']).set_index('Time')\n",
    "test = pd.read_csv('../input/test/data.csv',parse_dates=['Time']).set_index('Time')\n",
    "\n",
    "# dictionary to store all the data cuts we will create\n",
    "data_dict = {'stat':{}, '1col':{}, 'ts':{}}"
   ]
  },
  {
   "cell_type": "code",
   "execution_count": 5,
   "metadata": {},
   "outputs": [
    {
     "data": {
      "text/html": [
       "<div>\n",
       "<style scoped>\n",
       "    .dataframe tbody tr th:only-of-type {\n",
       "        vertical-align: middle;\n",
       "    }\n",
       "\n",
       "    .dataframe tbody tr th {\n",
       "        vertical-align: top;\n",
       "    }\n",
       "\n",
       "    .dataframe thead th {\n",
       "        text-align: right;\n",
       "    }\n",
       "</style>\n",
       "<table border=\"1\" class=\"dataframe\">\n",
       "  <thead>\n",
       "    <tr style=\"text-align: right;\">\n",
       "      <th></th>\n",
       "      <th>Temperature</th>\n",
       "      <th>Humidity</th>\n",
       "      <th>RPM</th>\n",
       "      <th>Vibrations</th>\n",
       "      <th>Pressure</th>\n",
       "      <th>Sensor1</th>\n",
       "      <th>Sensor2</th>\n",
       "      <th>Sensor3</th>\n",
       "      <th>Sensor4</th>\n",
       "      <th>Sensor5</th>\n",
       "      <th>Sensor6</th>\n",
       "      <th>Status</th>\n",
       "    </tr>\n",
       "    <tr>\n",
       "      <th>Time</th>\n",
       "      <th></th>\n",
       "      <th></th>\n",
       "      <th></th>\n",
       "      <th></th>\n",
       "      <th></th>\n",
       "      <th></th>\n",
       "      <th></th>\n",
       "      <th></th>\n",
       "      <th></th>\n",
       "      <th></th>\n",
       "      <th></th>\n",
       "      <th></th>\n",
       "    </tr>\n",
       "  </thead>\n",
       "  <tbody>\n",
       "    <tr>\n",
       "      <th>2020-01-01 00:00:00</th>\n",
       "      <td>31.11716</td>\n",
       "      <td>74.1715</td>\n",
       "      <td>72.0</td>\n",
       "      <td>16.81</td>\n",
       "      <td>76.0</td>\n",
       "      <td>0.791225</td>\n",
       "      <td>203.793426</td>\n",
       "      <td>0.582975</td>\n",
       "      <td>799.101683</td>\n",
       "      <td>7.149643</td>\n",
       "      <td>15.842287</td>\n",
       "      <td>0.0</td>\n",
       "    </tr>\n",
       "    <tr>\n",
       "      <th>2020-01-01 00:01:00</th>\n",
       "      <td>31.11716</td>\n",
       "      <td>74.1715</td>\n",
       "      <td>72.0</td>\n",
       "      <td>16.81</td>\n",
       "      <td>76.0</td>\n",
       "      <td>0.791225</td>\n",
       "      <td>203.793426</td>\n",
       "      <td>0.582975</td>\n",
       "      <td>799.101683</td>\n",
       "      <td>7.149643</td>\n",
       "      <td>15.842287</td>\n",
       "      <td>0.0</td>\n",
       "    </tr>\n",
       "    <tr>\n",
       "      <th>2020-01-01 00:02:00</th>\n",
       "      <td>32.08894</td>\n",
       "      <td>74.0803</td>\n",
       "      <td>72.0</td>\n",
       "      <td>17.08</td>\n",
       "      <td>76.0</td>\n",
       "      <td>0.803988</td>\n",
       "      <td>204.411886</td>\n",
       "      <td>0.575500</td>\n",
       "      <td>834.897700</td>\n",
       "      <td>7.089729</td>\n",
       "      <td>15.739743</td>\n",
       "      <td>0.0</td>\n",
       "    </tr>\n",
       "  </tbody>\n",
       "</table>\n",
       "</div>"
      ],
      "text/plain": [
       "                     Temperature  Humidity   RPM  Vibrations  Pressure  \\\n",
       "Time                                                                     \n",
       "2020-01-01 00:00:00     31.11716   74.1715  72.0       16.81      76.0   \n",
       "2020-01-01 00:01:00     31.11716   74.1715  72.0       16.81      76.0   \n",
       "2020-01-01 00:02:00     32.08894   74.0803  72.0       17.08      76.0   \n",
       "\n",
       "                      Sensor1     Sensor2   Sensor3     Sensor4   Sensor5  \\\n",
       "Time                                                                        \n",
       "2020-01-01 00:00:00  0.791225  203.793426  0.582975  799.101683  7.149643   \n",
       "2020-01-01 00:01:00  0.791225  203.793426  0.582975  799.101683  7.149643   \n",
       "2020-01-01 00:02:00  0.803988  204.411886  0.575500  834.897700  7.089729   \n",
       "\n",
       "                       Sensor6  Status  \n",
       "Time                                    \n",
       "2020-01-01 00:00:00  15.842287     0.0  \n",
       "2020-01-01 00:01:00  15.842287     0.0  \n",
       "2020-01-01 00:02:00  15.739743     0.0  "
      ]
     },
     "execution_count": 5,
     "metadata": {},
     "output_type": "execute_result"
    }
   ],
   "source": [
    "train.head(3)"
   ]
  },
  {
   "cell_type": "code",
   "execution_count": 6,
   "metadata": {},
   "outputs": [
    {
     "data": {
      "text/plain": [
       "(20160, 12)"
      ]
     },
     "execution_count": 6,
     "metadata": {},
     "output_type": "execute_result"
    }
   ],
   "source": [
    "train.shape"
   ]
  },
  {
   "cell_type": "code",
   "execution_count": 7,
   "metadata": {},
   "outputs": [],
   "source": [
    "# this function wraps together several functions we've seen before\n",
    "from ml_pipeline.model import processing_pipeline\n",
    "\n",
    "# we take a subset of our data for computation speed\n",
    "# important that we always use sme arguments for train and test \n",
    "data_dict['stat']['X_train'], data_dict['stat']['y_train'] = processing_pipeline(\n",
    "            train[-3100:-2900],\n",
    "            window_kwargs = {'window_length':30, 'step_length':1, 'fh':0},\n",
    "            feature_func = make_summary_stats_input)\n",
    "\n",
    "data_dict['stat']['X_test'], data_dict['stat']['y_test'] = processing_pipeline(\n",
    "            test[4200:4400],\n",
    "            window_kwargs = {'window_length':30, 'step_length':1, 'fh':0},\n",
    "            feature_func = make_summary_stats_input)"
   ]
  },
  {
   "cell_type": "code",
   "execution_count": 8,
   "metadata": {},
   "outputs": [],
   "source": [
    "# train our model using a logistic regression\n",
    "from ml_pipeline.model import train_traditional_model\n",
    "model_stats = train_traditional_model(\n",
    "                        X = data_dict['stat']['X_train'].values, \n",
    "                        y = data_dict['stat']['y_train'].values)"
   ]
  },
  {
   "cell_type": "markdown",
   "metadata": {},
   "source": [
    "### 1-dimensional time series classifier framework"
   ]
  },
  {
   "cell_type": "code",
   "execution_count": 9,
   "metadata": {},
   "outputs": [],
   "source": [
    "# this function arranges X values into a single dataframe (where each cell is a series)\n",
    "from ml_pipeline.featureset import make_series_input"
   ]
  },
  {
   "cell_type": "code",
   "execution_count": 10,
   "metadata": {},
   "outputs": [],
   "source": [
    "# this function wraps together several functions we've seen before\n",
    "from ml_pipeline.model import processing_pipeline"
   ]
  },
  {
   "cell_type": "code",
   "execution_count": 11,
   "metadata": {},
   "outputs": [],
   "source": [
    "# note we have changed feature_func, and we are also only selecting 1 column from the data\n",
    "data_dict['1col']['X_train'], data_dict['1col']['y_train'] = processing_pipeline(\n",
    "            train[-3100:-2900][['Temperature','Status']],\n",
    "            window_kwargs = {'window_length':30, 'step_length':1, 'fh':0},\n",
    "            feature_func = make_series_input,\n",
    "            add_first_diffs = False)\n",
    "\n",
    "data_dict['1col']['X_test'], data_dict['1col']['y_test'] = processing_pipeline(\n",
    "            test[4200:4400][['Temperature','Status']],\n",
    "            window_kwargs = {'window_length':30, 'step_length':1, 'fh':0},\n",
    "            feature_func = make_series_input,\n",
    "            add_first_diffs = False)"
   ]
  },
  {
   "cell_type": "code",
   "execution_count": 12,
   "metadata": {},
   "outputs": [
    {
     "data": {
      "text/plain": [
       "(171, 1)"
      ]
     },
     "execution_count": 12,
     "metadata": {},
     "output_type": "execute_result"
    }
   ],
   "source": [
    "data_dict['1col']['X_train'].shape"
   ]
  },
  {
   "cell_type": "code",
   "execution_count": 13,
   "metadata": {},
   "outputs": [
    {
     "data": {
      "text/html": [
       "<div>\n",
       "<style scoped>\n",
       "    .dataframe tbody tr th:only-of-type {\n",
       "        vertical-align: middle;\n",
       "    }\n",
       "\n",
       "    .dataframe tbody tr th {\n",
       "        vertical-align: top;\n",
       "    }\n",
       "\n",
       "    .dataframe thead th {\n",
       "        text-align: right;\n",
       "    }\n",
       "</style>\n",
       "<table border=\"1\" class=\"dataframe\">\n",
       "  <thead>\n",
       "    <tr style=\"text-align: right;\">\n",
       "      <th></th>\n",
       "      <th>Temperature</th>\n",
       "    </tr>\n",
       "    <tr>\n",
       "      <th>Time</th>\n",
       "      <th></th>\n",
       "    </tr>\n",
       "  </thead>\n",
       "  <tbody>\n",
       "    <tr>\n",
       "      <th>2020-01-12 20:49:00</th>\n",
       "      <td>0     36.72205\n",
       "1     36.12795\n",
       "2     36.01693\n",
       "3...</td>\n",
       "    </tr>\n",
       "    <tr>\n",
       "      <th>2020-01-12 20:50:00</th>\n",
       "      <td>0     36.12795\n",
       "1     36.01693\n",
       "2     36.76770\n",
       "3...</td>\n",
       "    </tr>\n",
       "    <tr>\n",
       "      <th>2020-01-12 20:51:00</th>\n",
       "      <td>0     36.01693\n",
       "1     36.76770\n",
       "2     36.65917\n",
       "3...</td>\n",
       "    </tr>\n",
       "  </tbody>\n",
       "</table>\n",
       "</div>"
      ],
      "text/plain": [
       "                                                           Temperature\n",
       "Time                                                                  \n",
       "2020-01-12 20:49:00  0     36.72205\n",
       "1     36.12795\n",
       "2     36.01693\n",
       "3...\n",
       "2020-01-12 20:50:00  0     36.12795\n",
       "1     36.01693\n",
       "2     36.76770\n",
       "3...\n",
       "2020-01-12 20:51:00  0     36.01693\n",
       "1     36.76770\n",
       "2     36.65917\n",
       "3..."
      ]
     },
     "execution_count": 13,
     "metadata": {},
     "output_type": "execute_result"
    }
   ],
   "source": [
    "data_dict['1col']['X_train'].head(3)"
   ]
  },
  {
   "cell_type": "code",
   "execution_count": 14,
   "metadata": {},
   "outputs": [
    {
     "data": {
      "text/plain": [
       "pandas.core.series.Series"
      ]
     },
     "execution_count": 14,
     "metadata": {},
     "output_type": "execute_result"
    }
   ],
   "source": [
    "type(data_dict['1col']['X_train'].iloc[0,0])"
   ]
  },
  {
   "cell_type": "code",
   "execution_count": 15,
   "metadata": {},
   "outputs": [
    {
     "data": {
      "text/plain": [
       "0    36.72205\n",
       "1    36.12795\n",
       "2    36.01693\n",
       "3    36.76770\n",
       "Name: Temperature, dtype: float64"
      ]
     },
     "execution_count": 15,
     "metadata": {},
     "output_type": "execute_result"
    }
   ],
   "source": [
    "data_dict['1col']['X_train'].iloc[0,0].head(4)"
   ]
  },
  {
   "cell_type": "code",
   "execution_count": 16,
   "metadata": {},
   "outputs": [],
   "source": [
    "# this function trains a series classifier\n",
    "from ml_pipeline.model import train_series_model\n",
    "\n",
    "# train our model\n",
    "model_1col = train_series_model(\n",
    "                X = data_dict['1col']['X_train'],\n",
    "                y = data_dict['1col']['y_train']\n",
    "                )"
   ]
  },
  {
   "cell_type": "markdown",
   "metadata": {},
   "source": [
    "### Multi-dimensional time series classifier framework"
   ]
  },
  {
   "cell_type": "code",
   "execution_count": 17,
   "metadata": {},
   "outputs": [],
   "source": [
    "# note we have all columns now, and we are adding first differences also\n",
    "data_dict['ts']['X_train'], data_dict['ts']['y_train'] = processing_pipeline(\n",
    "            train[-3100:-2900],\n",
    "            window_kwargs = {'window_length':30, 'step_length':1, 'fh':0},\n",
    "            feature_func = make_series_input,\n",
    "            add_first_diffs = True)\n",
    "\n",
    "data_dict['ts']['X_test'], data_dict['ts']['y_test'] = processing_pipeline(\n",
    "            test[4200:4400],\n",
    "            window_kwargs = {'window_length':30, 'step_length':1, 'fh':0},\n",
    "            feature_func = make_series_input,\n",
    "            add_first_diffs = True)"
   ]
  },
  {
   "cell_type": "code",
   "execution_count": 18,
   "metadata": {},
   "outputs": [
    {
     "data": {
      "text/html": [
       "<div>\n",
       "<style scoped>\n",
       "    .dataframe tbody tr th:only-of-type {\n",
       "        vertical-align: middle;\n",
       "    }\n",
       "\n",
       "    .dataframe tbody tr th {\n",
       "        vertical-align: top;\n",
       "    }\n",
       "\n",
       "    .dataframe thead th {\n",
       "        text-align: right;\n",
       "    }\n",
       "</style>\n",
       "<table border=\"1\" class=\"dataframe\">\n",
       "  <thead>\n",
       "    <tr style=\"text-align: right;\">\n",
       "      <th></th>\n",
       "      <th>Temperature</th>\n",
       "      <th>Humidity</th>\n",
       "      <th>RPM</th>\n",
       "      <th>Vibrations</th>\n",
       "      <th>Pressure</th>\n",
       "      <th>Sensor2</th>\n",
       "      <th>Sensor3</th>\n",
       "      <th>Sensor4</th>\n",
       "      <th>Sensor5</th>\n",
       "      <th>Sensor6</th>\n",
       "      <th>Temperature_diff</th>\n",
       "      <th>Humidity_diff</th>\n",
       "      <th>RPM_diff</th>\n",
       "      <th>Vibrations_diff</th>\n",
       "      <th>Pressure_diff</th>\n",
       "      <th>Sensor2_diff</th>\n",
       "      <th>Sensor3_diff</th>\n",
       "      <th>Sensor4_diff</th>\n",
       "      <th>Sensor5_diff</th>\n",
       "      <th>Sensor6_diff</th>\n",
       "    </tr>\n",
       "    <tr>\n",
       "      <th>Time</th>\n",
       "      <th></th>\n",
       "      <th></th>\n",
       "      <th></th>\n",
       "      <th></th>\n",
       "      <th></th>\n",
       "      <th></th>\n",
       "      <th></th>\n",
       "      <th></th>\n",
       "      <th></th>\n",
       "      <th></th>\n",
       "      <th></th>\n",
       "      <th></th>\n",
       "      <th></th>\n",
       "      <th></th>\n",
       "      <th></th>\n",
       "      <th></th>\n",
       "      <th></th>\n",
       "      <th></th>\n",
       "      <th></th>\n",
       "      <th></th>\n",
       "    </tr>\n",
       "  </thead>\n",
       "  <tbody>\n",
       "    <tr>\n",
       "      <th>2020-01-12 20:49:00</th>\n",
       "      <td>0     36.72205\n",
       "1     36.12795\n",
       "2     36.01693\n",
       "3...</td>\n",
       "      <td>0     64.798200\n",
       "1     65.263900\n",
       "2     65.09390...</td>\n",
       "      <td>0     72.0\n",
       "1     72.0\n",
       "2     72.0\n",
       "3     72.0\n",
       "4 ...</td>\n",
       "      <td>0     71.08\n",
       "1     70.62\n",
       "2     67.29\n",
       "3     70.8...</td>\n",
       "      <td>0     74.0\n",
       "1     75.0\n",
       "2     74.0\n",
       "3     74.0\n",
       "4 ...</td>\n",
       "      <td>0     198.820489\n",
       "1     198.497974\n",
       "2     198.70...</td>\n",
       "      <td>0     0.688679\n",
       "1     0.712169\n",
       "2     0.726049\n",
       "3...</td>\n",
       "      <td>0     923.115900\n",
       "1     927.568950\n",
       "2     909.53...</td>\n",
       "      <td>0     7.115405\n",
       "1     7.138228\n",
       "2     7.092582\n",
       "3...</td>\n",
       "      <td>0     15.654291\n",
       "1     15.765376\n",
       "2     15.73120...</td>\n",
       "      <td>0     0.00000\n",
       "1    -0.59410\n",
       "2    -0.11102\n",
       "3   ...</td>\n",
       "      <td>0     0.000000\n",
       "1     0.465700\n",
       "2    -0.170000\n",
       "3...</td>\n",
       "      <td>0     0.0\n",
       "1     0.0\n",
       "2     0.0\n",
       "3     0.0\n",
       "4     ...</td>\n",
       "      <td>0     0.00\n",
       "1    -0.46\n",
       "2    -3.33\n",
       "3     3.56\n",
       "4 ...</td>\n",
       "      <td>0     0.0\n",
       "1     1.0\n",
       "2    -1.0\n",
       "3     0.0\n",
       "4     ...</td>\n",
       "      <td>0     0.000000\n",
       "1    -0.322514\n",
       "2     0.210460\n",
       "3...</td>\n",
       "      <td>0     0.000000\n",
       "1     0.023490\n",
       "2     0.013880\n",
       "3...</td>\n",
       "      <td>0      0.000000\n",
       "1      4.453050\n",
       "2    -18.03456...</td>\n",
       "      <td>0     0.000000\n",
       "1     0.022823\n",
       "2    -0.045646\n",
       "3...</td>\n",
       "      <td>0     0.000000\n",
       "1     0.111085\n",
       "2    -0.034174\n",
       "3...</td>\n",
       "    </tr>\n",
       "  </tbody>\n",
       "</table>\n",
       "</div>"
      ],
      "text/plain": [
       "                                                           Temperature  \\\n",
       "Time                                                                     \n",
       "2020-01-12 20:49:00  0     36.72205\n",
       "1     36.12795\n",
       "2     36.01693\n",
       "3...   \n",
       "\n",
       "                                                              Humidity  \\\n",
       "Time                                                                     \n",
       "2020-01-12 20:49:00  0     64.798200\n",
       "1     65.263900\n",
       "2     65.09390...   \n",
       "\n",
       "                                                                   RPM  \\\n",
       "Time                                                                     \n",
       "2020-01-12 20:49:00  0     72.0\n",
       "1     72.0\n",
       "2     72.0\n",
       "3     72.0\n",
       "4 ...   \n",
       "\n",
       "                                                            Vibrations  \\\n",
       "Time                                                                     \n",
       "2020-01-12 20:49:00  0     71.08\n",
       "1     70.62\n",
       "2     67.29\n",
       "3     70.8...   \n",
       "\n",
       "                                                              Pressure  \\\n",
       "Time                                                                     \n",
       "2020-01-12 20:49:00  0     74.0\n",
       "1     75.0\n",
       "2     74.0\n",
       "3     74.0\n",
       "4 ...   \n",
       "\n",
       "                                                               Sensor2  \\\n",
       "Time                                                                     \n",
       "2020-01-12 20:49:00  0     198.820489\n",
       "1     198.497974\n",
       "2     198.70...   \n",
       "\n",
       "                                                               Sensor3  \\\n",
       "Time                                                                     \n",
       "2020-01-12 20:49:00  0     0.688679\n",
       "1     0.712169\n",
       "2     0.726049\n",
       "3...   \n",
       "\n",
       "                                                               Sensor4  \\\n",
       "Time                                                                     \n",
       "2020-01-12 20:49:00  0     923.115900\n",
       "1     927.568950\n",
       "2     909.53...   \n",
       "\n",
       "                                                               Sensor5  \\\n",
       "Time                                                                     \n",
       "2020-01-12 20:49:00  0     7.115405\n",
       "1     7.138228\n",
       "2     7.092582\n",
       "3...   \n",
       "\n",
       "                                                               Sensor6  \\\n",
       "Time                                                                     \n",
       "2020-01-12 20:49:00  0     15.654291\n",
       "1     15.765376\n",
       "2     15.73120...   \n",
       "\n",
       "                                                      Temperature_diff  \\\n",
       "Time                                                                     \n",
       "2020-01-12 20:49:00  0     0.00000\n",
       "1    -0.59410\n",
       "2    -0.11102\n",
       "3   ...   \n",
       "\n",
       "                                                         Humidity_diff  \\\n",
       "Time                                                                     \n",
       "2020-01-12 20:49:00  0     0.000000\n",
       "1     0.465700\n",
       "2    -0.170000\n",
       "3...   \n",
       "\n",
       "                                                              RPM_diff  \\\n",
       "Time                                                                     \n",
       "2020-01-12 20:49:00  0     0.0\n",
       "1     0.0\n",
       "2     0.0\n",
       "3     0.0\n",
       "4     ...   \n",
       "\n",
       "                                                       Vibrations_diff  \\\n",
       "Time                                                                     \n",
       "2020-01-12 20:49:00  0     0.00\n",
       "1    -0.46\n",
       "2    -3.33\n",
       "3     3.56\n",
       "4 ...   \n",
       "\n",
       "                                                         Pressure_diff  \\\n",
       "Time                                                                     \n",
       "2020-01-12 20:49:00  0     0.0\n",
       "1     1.0\n",
       "2    -1.0\n",
       "3     0.0\n",
       "4     ...   \n",
       "\n",
       "                                                          Sensor2_diff  \\\n",
       "Time                                                                     \n",
       "2020-01-12 20:49:00  0     0.000000\n",
       "1    -0.322514\n",
       "2     0.210460\n",
       "3...   \n",
       "\n",
       "                                                          Sensor3_diff  \\\n",
       "Time                                                                     \n",
       "2020-01-12 20:49:00  0     0.000000\n",
       "1     0.023490\n",
       "2     0.013880\n",
       "3...   \n",
       "\n",
       "                                                          Sensor4_diff  \\\n",
       "Time                                                                     \n",
       "2020-01-12 20:49:00  0      0.000000\n",
       "1      4.453050\n",
       "2    -18.03456...   \n",
       "\n",
       "                                                          Sensor5_diff  \\\n",
       "Time                                                                     \n",
       "2020-01-12 20:49:00  0     0.000000\n",
       "1     0.022823\n",
       "2    -0.045646\n",
       "3...   \n",
       "\n",
       "                                                          Sensor6_diff  \n",
       "Time                                                                    \n",
       "2020-01-12 20:49:00  0     0.000000\n",
       "1     0.111085\n",
       "2    -0.034174\n",
       "3...  "
      ]
     },
     "execution_count": 18,
     "metadata": {},
     "output_type": "execute_result"
    }
   ],
   "source": [
    "data_dict['ts']['X_train'].head(1)"
   ]
  },
  {
   "cell_type": "code",
   "execution_count": 19,
   "metadata": {},
   "outputs": [],
   "source": [
    "# this function will train a multi series ensemble\n",
    "from ml_pipeline.model import train_multiseries_model\n",
    "model_ts = train_multiseries_model(\n",
    "                X = data_dict['ts']['X_train'],\n",
    "                y = data_dict['ts']['y_train'])"
   ]
  },
  {
   "cell_type": "code",
   "execution_count": 20,
   "metadata": {},
   "outputs": [
    {
     "data": {
      "text/plain": [
       "[('knn_0', KNeighborsTimeSeriesClassifier(), [0]),\n",
       " ('knn_1', KNeighborsTimeSeriesClassifier(), [1]),\n",
       " ('knn_2', KNeighborsTimeSeriesClassifier(), [2]),\n",
       " ('knn_3', KNeighborsTimeSeriesClassifier(), [3]),\n",
       " ('knn_4', KNeighborsTimeSeriesClassifier(), [4]),\n",
       " ('knn_5', KNeighborsTimeSeriesClassifier(), [5]),\n",
       " ('knn_6', KNeighborsTimeSeriesClassifier(), [6]),\n",
       " ('knn_7', KNeighborsTimeSeriesClassifier(), [7]),\n",
       " ('knn_8', KNeighborsTimeSeriesClassifier(), [8]),\n",
       " ('knn_9', KNeighborsTimeSeriesClassifier(), [9]),\n",
       " ('knn_10', KNeighborsTimeSeriesClassifier(), [10]),\n",
       " ('knn_11', KNeighborsTimeSeriesClassifier(), [11]),\n",
       " ('knn_12', KNeighborsTimeSeriesClassifier(), [12]),\n",
       " ('knn_13', KNeighborsTimeSeriesClassifier(), [13]),\n",
       " ('knn_14', KNeighborsTimeSeriesClassifier(), [14]),\n",
       " ('knn_15', KNeighborsTimeSeriesClassifier(), [15]),\n",
       " ('knn_16', KNeighborsTimeSeriesClassifier(), [16]),\n",
       " ('knn_17', KNeighborsTimeSeriesClassifier(), [17]),\n",
       " ('knn_18', KNeighborsTimeSeriesClassifier(), [18]),\n",
       " ('knn_19', KNeighborsTimeSeriesClassifier(), [19])]"
      ]
     },
     "execution_count": 20,
     "metadata": {},
     "output_type": "execute_result"
    }
   ],
   "source": [
    "# this trains one estimator for each column\n",
    "model_ts.estimators_"
   ]
  },
  {
   "cell_type": "code",
   "execution_count": 21,
   "metadata": {},
   "outputs": [
    {
     "data": {
      "text/plain": [
       "array([0, 0, 0, 0, 0, 0, 0, 0, 0, 0, 0, 0, 0, 0, 0, 0, 0, 0, 0, 0, 0, 0,\n",
       "       0, 0, 0, 0, 0, 0, 0, 0, 0, 0, 0, 0, 0, 0, 0, 0, 0, 0, 0, 0, 0, 0,\n",
       "       0, 0, 0, 0, 0, 0, 0, 0, 0, 0, 0, 0, 0, 0, 0, 0, 0, 0, 0, 0, 0, 0,\n",
       "       1, 1, 1, 1, 1, 1, 1, 1, 1, 1, 1, 1, 1, 1, 1, 1, 1, 1, 1, 1, 1, 1,\n",
       "       1, 1, 1, 1, 1, 1, 1, 1, 1, 1, 1, 1, 1, 1, 1, 1, 1, 1, 1, 1, 1, 1,\n",
       "       1, 1, 1, 1, 1, 1, 1, 1, 1, 1, 1, 1, 1, 1, 1, 1, 1, 1, 1, 1, 1, 1,\n",
       "       1, 1, 1, 1, 1, 1, 1, 1, 1, 1, 1, 1, 1, 1, 1, 1, 1, 1, 1, 1, 1, 1,\n",
       "       1, 1, 1, 1, 1, 1, 1, 1, 1, 1, 1, 1, 1, 1, 1, 1, 1], dtype=int64)"
      ]
     },
     "execution_count": 21,
     "metadata": {},
     "output_type": "execute_result"
    }
   ],
   "source": [
    "# we can recover the individual estimators, e.g. for the second column ('RPM')\n",
    "model_column_2 = model_ts.estimators_[2][1]\n",
    "\n",
    "# we can then predict using just this columns (we have to select the correct column from the X dataframe)\n",
    "model_column_2.predict(data_dict['ts']['X_train'][['RPM']])"
   ]
  },
  {
   "cell_type": "code",
   "execution_count": 22,
   "metadata": {},
   "outputs": [],
   "source": [
    "# let see how performance varies\n",
    "accuracy = []\n",
    "\n",
    "# iterate through each column\n",
    "for idx, name in enumerate(data_dict['ts']['X_test'].columns):\n",
    "\n",
    "    # get the estimator for that column\n",
    "    model_column_idx = model_ts.estimators_[idx][1]\n",
    "\n",
    "    # get accuracy for that column\n",
    "    accuracy.append((model_column_idx.predict(data_dict['ts']['X_test'][[name]]) == data_dict['ts']['y_test']).mean())\n",
    "\n",
    "accuracy = pd.Series(data=accuracy, index=data_dict['ts']['X_test'].columns)"
   ]
  },
  {
   "cell_type": "code",
   "execution_count": 23,
   "metadata": {},
   "outputs": [
    {
     "data": {
      "text/plain": [
       "Sensor5             0.994152\n",
       "RPM                 0.988304\n",
       "Sensor6             0.988304\n",
       "Sensor6_diff        0.959064\n",
       "Temperature         0.935673\n",
       "Vibrations          0.912281\n",
       "Sensor2_diff        0.894737\n",
       "Vibrations_diff     0.777778\n",
       "Sensor2             0.719298\n",
       "Sensor5_diff        0.719298\n",
       "Pressure_diff       0.707602\n",
       "RPM_diff            0.631579\n",
       "Temperature_diff    0.625731\n",
       "Humidity_diff       0.619883\n",
       "Sensor4             0.520468\n",
       "Sensor4_diff        0.508772\n",
       "Sensor3_diff        0.327485\n",
       "Sensor3             0.292398\n",
       "Pressure            0.292398\n",
       "Humidity            0.251462\n",
       "dtype: float64"
      ]
     },
     "execution_count": 23,
     "metadata": {},
     "output_type": "execute_result"
    }
   ],
   "source": [
    "# We can see a clear variation in performance\n",
    "# We could potentially performance of our ensemble by only using high accuracy columns \n",
    "accuracy.sort_values(ascending=False)"
   ]
  },
  {
   "cell_type": "markdown",
   "metadata": {},
   "source": [
    "### Evaluating our model results"
   ]
  },
  {
   "cell_type": "code",
   "execution_count": 24,
   "metadata": {},
   "outputs": [
    {
     "data": {
      "text/plain": [
       "array([[0.18052786, 0.81947214]])"
      ]
     },
     "execution_count": 24,
     "metadata": {},
     "output_type": "execute_result"
    }
   ],
   "source": [
    "# our model returns a probability of class assignment\n",
    "model_stats.predict_proba(data_dict['stat']['X_test'].values.astype(np.float32))[50:51]"
   ]
  },
  {
   "cell_type": "code",
   "execution_count": 25,
   "metadata": {},
   "outputs": [
    {
     "name": "stdout",
     "output_type": "stream",
     "text": [
      "splitting pipeline...\n",
      "Detected sklearn/imblearn Pipeline and succesfully extracted final output dataframe with column names and final model...\n",
      "WARNING: For shap='linear', shap interaction values can unfortunately not be calculated!\n",
      "Note: model_output='probability' is currently not supported for linear classifiers models with shap. So defaulting to model_output='logodds' If you really need probability outputs use shap='kernel' instead.\n",
      "Note: shap values for shap='linear' get calculated against X_background, but paramater X_background=None, so using X instead...\n",
      "Generating self.shap_explainer = shap.LinearExplainer(model, X)...\n",
      "Building ExplainerDashboard..\n",
      "Detected notebook environment, consider setting mode='external', mode='inline' or mode='jupyterlab' to keep the notebook interactive while the dashboard is running...\n",
      "Generating layout...\n",
      "Calculating prediction probabilities...\n",
      "Calculating metrics...\n",
      "Calculating confusion matrices...\n",
      "Calculating classification_dfs...\n",
      "Calculating roc auc curves...\n",
      "Calculating pr auc curves...\n",
      "Calculating liftcurve_dfs...\n",
      "Calculating dependencies...\n",
      "Calculating predictions...\n",
      "Calculating pred_percentiles...\n",
      "Reminder: you can store the explainer (including calculated dependencies) with explainer.dump('explainer.joblib') and reload with e.g. ClassifierExplainer.from_file('explainer.joblib')\n",
      "Registering callbacks...\n",
      "dashboard saved: ../output/dashboard.html\n"
     ]
    }
   ],
   "source": [
    "# this function creates a dashboard app to quickly check results\n",
    "# after running this code open the html file it saved in /output\n",
    "# we can see the ideal thershold is higher than 50%\n",
    "from ml_pipeline.model import create_explainer_dashboard\n",
    "create_explainer_dashboard(model_stats, \n",
    "                data_dict['stat']['X_test'], \n",
    "                data_dict['stat']['y_test'], \n",
    "                save_path='../output/dashboard.html',\n",
    "                )"
   ]
  },
  {
   "cell_type": "code",
   "execution_count": 26,
   "metadata": {},
   "outputs": [],
   "source": [
    "# function to get a set of results \n",
    "from ml_pipeline.model import test_model\n",
    "\n",
    "# one set at default threshold\n",
    "result_50 = test_model(data_dict['stat']['X_test'].values.astype(np.float32), \n",
    "                    data_dict['stat']['y_test'].values.astype(np.float32), \n",
    "                    model_stats, \n",
    "                    threshold=0.50)\n",
    "\n",
    "# another at the higher threshold\n",
    "result_95 = test_model(data_dict['stat']['X_test'].values.astype(np.float32), \n",
    "                    data_dict['stat']['y_test'].values.astype(np.float32), \n",
    "                    model_stats, \n",
    "                    threshold=0.95)"
   ]
  },
  {
   "cell_type": "code",
   "execution_count": 27,
   "metadata": {},
   "outputs": [
    {
     "data": {
      "image/png": "[encoded data removed]",
      "text/plain": [
       "<Figure size 864x216 with 1 Axes>"
      ]
     },
     "metadata": {
      "needs_background": "light"
     },
     "output_type": "display_data"
    }
   ],
   "source": [
    "# function to visualise results\n",
    "from ml_pipeline.model import plot_model_result\n",
    "\n",
    "# we can now visualise on the time series what is ocurring on the time series for both\n",
    "plot_model_result(result_50)"
   ]
  },
  {
   "cell_type": "code",
   "execution_count": 28,
   "metadata": {},
   "outputs": [
    {
     "data": {
      "image/png": "[encoded data removed]",
      "text/plain": [
       "<Figure size 864x216 with 1 Axes>"
      ]
     },
     "metadata": {
      "needs_background": "light"
     },
     "output_type": "display_data"
    }
   ],
   "source": [
    "# zoom in on the relevant part\n",
    "plot_model_result(result_95)"
   ]
  },
  {
   "cell_type": "code",
   "execution_count": 29,
   "metadata": {},
   "outputs": [
    {
     "data": {
      "text/plain": [
       "array([[1., 0.]])"
      ]
     },
     "execution_count": 29,
     "metadata": {},
     "output_type": "execute_result"
    }
   ],
   "source": [
    "# our time series classifier is distance based and only return exact 1 or 0 \n",
    "# there there is no point seeting a probability threshold\n",
    "model_1col.predict_proba(data_dict['1col']['X_test'].iloc[:1])"
   ]
  },
  {
   "cell_type": "code",
   "execution_count": 30,
   "metadata": {},
   "outputs": [
    {
     "name": "stdout",
     "output_type": "stream",
     "text": [
      "Accuracy =  0.935672514619883\n"
     ]
    },
    {
     "data": {
      "image/png": "[encoded data removed]",
      "text/plain": [
       "<Figure size 864x216 with 1 Axes>"
      ]
     },
     "metadata": {
      "needs_background": "light"
     },
     "output_type": "display_data"
    }
   ],
   "source": [
    "# we can see how our single series classifer compares \n",
    "result = test_model(data_dict['1col']['X_test'], \n",
    "                    data_dict['1col']['y_test'].values,\n",
    "                    model_1col, \n",
    "                    threshold=0.50)\n",
    "\n",
    "print('Accuracy = ', (result['residual']==0).mean())\n",
    "\n",
    "# we can now visualise on the time series what is ocurring on the time series for both\n",
    "plot_model_result(result)"
   ]
  },
  {
   "cell_type": "code",
   "execution_count": 31,
   "metadata": {},
   "outputs": [
    {
     "name": "stdout",
     "output_type": "stream",
     "text": [
      "Accuracy =  0.9707602339181286\n"
     ]
    },
    {
     "data": {
      "image/png": "[encoded data removed]",
      "text/plain": [
       "<Figure size 864x216 with 1 Axes>"
      ]
     },
     "metadata": {
      "needs_background": "light"
     },
     "output_type": "display_data"
    }
   ],
   "source": [
    "# and how our multie series classifer compares \n",
    "result = test_model(data_dict['ts']['X_test'], \n",
    "                    data_dict['ts']['y_test'].values,\n",
    "                    model_ts, \n",
    "                    threshold=0.50)\n",
    "\n",
    "print('Accuracy = ', (result['residual']==0).mean())\n",
    "\n",
    "# we can now visualise on the time series what is ocurring on the time series for both\n",
    "plot_model_result(result)"
   ]
  },
  {
   "cell_type": "markdown",
   "metadata": {},
   "source": [
    "### Impact of window size and lag\n",
    "\n",
    "- we will repeat our summary stat classifier, but this time reduce the window length to see if accuracy changes\n",
    "- our first clasifier was length 30, we will reudce to 15\n",
    "- we can also try switching lag to 5, so we are now predicting into the future, to see how accuracy changes"
   ]
  },
  {
   "cell_type": "markdown",
   "metadata": {},
   "source": [
    "#### i) window = 15"
   ]
  },
  {
   "cell_type": "code",
   "execution_count": 32,
   "metadata": {},
   "outputs": [],
   "source": [
    "# repeate this process but with lower window length\n",
    "data_dict['stat15'] = {}\n",
    "\n",
    "data_dict['stat15']['X_train'], data_dict['stat15']['y_train'] = processing_pipeline(\n",
    "            train[-3100:-2900],\n",
    "            window_kwargs = {'window_length':15, 'step_length':1, 'fh':0},\n",
    "            feature_func = make_summary_stats_input )\n",
    "\n",
    "data_dict['stat15']['X_test'], data_dict['stat15']['y_test'] = processing_pipeline(\n",
    "            test[4200:4400],\n",
    "            window_kwargs = {'window_length':15, 'step_length':1, 'fh':0},\n",
    "            feature_func = make_summary_stats_input)\n",
    "\n",
    "# train model \n",
    "model_stats_15 = train_traditional_model(\n",
    "    data_dict['stat15']['X_train'].values.astype(float),\n",
    "    data_dict['stat15']['y_train'].values.astype(float)\n",
    "    )"
   ]
  },
  {
   "cell_type": "code",
   "execution_count": 33,
   "metadata": {},
   "outputs": [
    {
     "name": "stdout",
     "output_type": "stream",
     "text": [
      "Accuracy =  0.989247311827957\n"
     ]
    },
    {
     "data": {
      "image/png": "[encoded data removed]",
      "text/plain": [
       "<Figure size 864x216 with 1 Axes>"
      ]
     },
     "metadata": {
      "needs_background": "light"
     },
     "output_type": "display_data"
    }
   ],
   "source": [
    "# we can see how our single series classifer compares \n",
    "result = test_model(data_dict['stat15']['X_test'], \n",
    "                    data_dict['stat15']['y_test'].values,\n",
    "                    model_stats_15, \n",
    "                    threshold=0.50)\n",
    "\n",
    "print('Accuracy = ', (result['residual']==0).mean())\n",
    "\n",
    "# we can now visualise on the time series what is ocurring on the time series for both\n",
    "plot_model_result(result)"
   ]
  },
  {
   "cell_type": "markdown",
   "metadata": {},
   "source": [
    "#### ii) lag = 5"
   ]
  },
  {
   "cell_type": "code",
   "execution_count": 34,
   "metadata": {},
   "outputs": [],
   "source": [
    "# repeate this process but with lower window length\n",
    "data_dict['statlag5'] = {}\n",
    "\n",
    "data_dict['statlag5']['X_train'], data_dict['statlag5']['y_train'] = processing_pipeline(\n",
    "            train[-3100:-2900],\n",
    "            window_kwargs = {'window_length':30, 'step_length':1, 'fh':5},\n",
    "            feature_func = make_summary_stats_input )\n",
    "\n",
    "data_dict['statlag5']['X_test'], data_dict['statlag5']['y_test'] = processing_pipeline(\n",
    "            test[4200:4400],\n",
    "            window_kwargs = {'window_length':30, 'step_length':1, 'fh':5},\n",
    "            feature_func = make_summary_stats_input)\n",
    "\n",
    "# train model \n",
    "model_statlag5 = train_traditional_model(\n",
    "    data_dict['statlag5']['X_train'].values.astype(float),\n",
    "    data_dict['statlag5']['y_train'].values.astype(float)\n",
    "    )"
   ]
  },
  {
   "cell_type": "code",
   "execution_count": 35,
   "metadata": {},
   "outputs": [
    {
     "name": "stdout",
     "output_type": "stream",
     "text": [
      "Accuracy =  0.4397590361445783\n"
     ]
    },
    {
     "data": {
      "image/png": "[encoded data removed]",
      "text/plain": [
       "<Figure size 864x216 with 1 Axes>"
      ]
     },
     "metadata": {
      "needs_background": "light"
     },
     "output_type": "display_data"
    }
   ],
   "source": [
    "# we can see how our single series classifer compares \n",
    "result = test_model(data_dict['statlag5']['X_test'], \n",
    "                    data_dict['statlag5']['y_test'].values,\n",
    "                    model_statlag5, \n",
    "                    threshold=0.50)\n",
    "\n",
    "print('Accuracy = ', (result['residual']==0).mean())\n",
    "\n",
    "# we can now visualise on the time series what is ocurring on the time series for both\n",
    "plot_model_result(result)"
   ]
  },
  {
   "cell_type": "markdown",
   "metadata": {},
   "source": [
    "#### Run main engine"
   ]
  },
  {
   "cell_type": "code",
   "execution_count": 36,
   "metadata": {},
   "outputs": [],
   "source": [
    "#!python engine.py"
   ]
  },
  {
   "cell_type": "code",
   "execution_count": null,
   "metadata": {},
   "outputs": [],
   "source": []
  }
 ],
 "metadata": {
  "kernelspec": {
   "display_name": "Python 3.8.8 ('base')",
   "language": "python",
   "name": "python3"
  },
  "language_info": {
   "codemirror_mode": {
    "name": "ipython",
    "version": 3
   },
   "file_extension": ".py",
   "mimetype": "text/x-python",
   "name": "python",
   "nbconvert_exporter": "python",
   "pygments_lexer": "ipython3",
   "version": "3.8.8"
  },
  "orig_nbformat": 4,
  "vscode": {
   "interpreter": {
    "hash": "88279d2366fe020547cde40dd65aa0e3aa662a6ec1f3ca12d88834876c85e1a6"
   }
  }
 },
 "nbformat": 4,
 "nbformat_minor": 2
}
