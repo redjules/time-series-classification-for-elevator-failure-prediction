{
 "cells": [
  {
   "cell_type": "code",
   "execution_count": 1,
   "metadata": {},
   "outputs": [
    {
     "name": "stdout",
     "output_type": "stream",
     "text": [
      "{'pandas': '1.3.4', 'numpy': '1.21.6', 'scipy': '1.8.1', 'sklearn': '1.1.1', 'openpyxl': '3.0.9', 'seaborn': '0.11.1', 'matplotlib': '3.4.3', 'sktime': '0.12.0'}\n"
     ]
    }
   ],
   "source": [
    "# OPTIONAL: Load the \"autoreload\" extension so that code can change\n",
    "%load_ext autoreload\n",
    "# OPTIONAL: always reload modules so that as you change code in src, it gets loaded\n",
    "%autoreload 2\n",
    "\n",
    "import pandas as pd\n",
    "import numpy as np\n",
    "import sklearn\n",
    "import scipy as scp\n",
    "import openpyxl\n",
    "import matplotlib\n",
    "import matplotlib.pyplot as plt\n",
    "import seaborn as sns\n",
    "import sktime as skt\n",
    "\n",
    "# supress this warning\n",
    "pd.options.mode.chained_assignment = None\n",
    "\n",
    "print({pkg.__name__:pkg.__version__ for pkg in [pd, np, scp, sklearn, openpyxl, sns, matplotlib, skt]})"
   ]
  },
  {
   "cell_type": "code",
   "execution_count": 2,
   "metadata": {},
   "outputs": [],
   "source": [
    "#importing sys\n",
    "import sys\n",
    "  \n",
    "# adding src to the system path\n",
    "sys.path.insert(0, '../src')"
   ]
  },
  {
   "cell_type": "markdown",
   "metadata": {},
   "source": [
    "### Initial look at the data"
   ]
  },
  {
   "cell_type": "markdown",
   "metadata": {},
   "source": [
    "#### i) load data"
   ]
  },
  {
   "cell_type": "code",
   "execution_count": 3,
   "metadata": {},
   "outputs": [
    {
     "data": {
      "text/plain": [
       "dict_keys(['data'])"
      ]
     },
     "execution_count": 3,
     "metadata": {},
     "output_type": "execute_result"
    }
   ],
   "source": [
    "from ml_pipeline.dataset import load_excel\n",
    "DATA_PATH = '../input/elevator_failure_prediction.xlsx'\n",
    "\n",
    "# this creates a dict of excel sheets\n",
    "xl_dict = load_excel(DATA_PATH)\n",
    "xl_dict.keys()"
   ]
  },
  {
   "cell_type": "code",
   "execution_count": 4,
   "metadata": {},
   "outputs": [],
   "source": [
    "# get the relevant sheet\n",
    "raw = xl_dict['data']"
   ]
  },
  {
   "cell_type": "markdown",
   "metadata": {},
   "source": [
    "#### ii) data overview"
   ]
  },
  {
   "cell_type": "code",
   "execution_count": 5,
   "metadata": {},
   "outputs": [
    {
     "name": "stdout",
     "output_type": "stream",
     "text": [
      "<class 'pandas.core.frame.DataFrame'>\n",
      "RangeIndex: 44640 entries, 0 to 44639\n",
      "Data columns (total 13 columns):\n",
      " #   Column       Non-Null Count  Dtype         \n",
      "---  ------       --------------  -----         \n",
      " 0   Time         44640 non-null  datetime64[ns]\n",
      " 1   Temperature  44631 non-null  float64       \n",
      " 2   Humidity     44640 non-null  float64       \n",
      " 3   RPM          44640 non-null  float64       \n",
      " 4   Vibrations   44640 non-null  float64       \n",
      " 5   Pressure     44640 non-null  float64       \n",
      " 6   Sensor1      44640 non-null  float64       \n",
      " 7   Sensor2      40586 non-null  float64       \n",
      " 8   Sensor3      44640 non-null  float64       \n",
      " 9   Sensor4      44640 non-null  float64       \n",
      " 10  Sensor5      44640 non-null  float64       \n",
      " 11  Sensor6      44640 non-null  float64       \n",
      " 12  Status       44640 non-null  float64       \n",
      "dtypes: datetime64[ns](1), float64(12)\n",
      "memory usage: 4.4 MB\n"
     ]
    }
   ],
   "source": [
    "# initial look at the columns\n",
    "raw.info()"
   ]
  },
  {
   "cell_type": "code",
   "execution_count": 6,
   "metadata": {},
   "outputs": [
    {
     "data": {
      "text/plain": [
       "Time           2020-01-01 16:40:00\n",
       "Temperature               38.60568\n",
       "Humidity                   73.9486\n",
       "RPM                           72.0\n",
       "Vibrations                   13.01\n",
       "Pressure                      76.0\n",
       "Sensor1                   0.612267\n",
       "Sensor2                 204.218814\n",
       "Sensor3                   0.959879\n",
       "Sensor4                  825.31645\n",
       "Sensor5                   7.121112\n",
       "Sensor6                  15.697017\n",
       "Status                         0.0\n",
       "Name: 1000, dtype: object"
      ]
     },
     "execution_count": 6,
     "metadata": {},
     "output_type": "execute_result"
    }
   ],
   "source": [
    "# look at an example row\n",
    "raw.iloc[1000]"
   ]
  },
  {
   "cell_type": "markdown",
   "metadata": {},
   "source": [
    "#### iii) examine Target"
   ]
  },
  {
   "cell_type": "code",
   "execution_count": 7,
   "metadata": {},
   "outputs": [
    {
     "data": {
      "text/plain": [
       "0.0    40584\n",
       "1.0        2\n",
       "2.0     4054\n",
       "Name: Status, dtype: int64"
      ]
     },
     "execution_count": 7,
     "metadata": {},
     "output_type": "execute_result"
    }
   ],
   "source": [
    "# examine target variable, tt is a very imbalanced dataset\n",
    "raw.Status.value_counts().sort_index()"
   ]
  },
  {
   "cell_type": "markdown",
   "metadata": {},
   "source": [
    "#### iv) Examine time"
   ]
  },
  {
   "cell_type": "code",
   "execution_count": 8,
   "metadata": {},
   "outputs": [
    {
     "data": {
      "text/plain": [
       "0       2020-01-01 00:00:00\n",
       "44639   2020-01-31 23:59:00\n",
       "Name: Time, dtype: datetime64[ns]"
      ]
     },
     "execution_count": 8,
     "metadata": {},
     "output_type": "execute_result"
    }
   ],
   "source": [
    "# check if there are any missing time points \n",
    "raw.Time.iloc[[0,-1]]"
   ]
  },
  {
   "cell_type": "code",
   "execution_count": 9,
   "metadata": {},
   "outputs": [
    {
     "data": {
      "text/plain": [
       "True"
      ]
     },
     "execution_count": 9,
     "metadata": {},
     "output_type": "execute_result"
    }
   ],
   "source": [
    "# method 1) check number of rows is as expected\n",
    "# total number of minutes = days * (hours per day) * (minutes per hour) \n",
    "31 * 24 * 60 == len(raw)"
   ]
  },
  {
   "cell_type": "code",
   "execution_count": 10,
   "metadata": {},
   "outputs": [
    {
     "data": {
      "text/plain": [
       "array([60000000000], dtype='timedelta64[ns]')"
      ]
     },
     "execution_count": 10,
     "metadata": {},
     "output_type": "execute_result"
    }
   ],
   "source": [
    "# method 2) check interval between each row is always the same\n",
    "# see intervals between indices\n",
    "raw.Time.diff()[1:].unique()"
   ]
  },
  {
   "cell_type": "code",
   "execution_count": 11,
   "metadata": {},
   "outputs": [
    {
     "data": {
      "text/plain": [
       "60.0"
      ]
     },
     "execution_count": 11,
     "metadata": {},
     "output_type": "execute_result"
    }
   ],
   "source": [
    "# this number is in billionths of a second, we divied by 1 billion to confirm it is 60 seconds\n",
    "60000000000 / 1e9"
   ]
  },
  {
   "cell_type": "code",
   "execution_count": 12,
   "metadata": {},
   "outputs": [],
   "source": [
    "# set time as index\n",
    "raw.set_index('Time', inplace=True)"
   ]
  },
  {
   "cell_type": "markdown",
   "metadata": {},
   "source": [
    "### Train/Test split\n"
   ]
  },
  {
   "cell_type": "code",
   "execution_count": 13,
   "metadata": {},
   "outputs": [],
   "source": [
    "from ml_pipeline.dataset import time_train_test_split\n",
    "from ml_pipeline.diagnosis import check_target_split, check_number_of_full_days"
   ]
  },
  {
   "cell_type": "markdown",
   "metadata": {},
   "source": [
    "#### i) Make train/test split"
   ]
  },
  {
   "cell_type": "code",
   "execution_count": 14,
   "metadata": {},
   "outputs": [],
   "source": [
    "# make split \n",
    "train, test = time_train_test_split(raw, proportion = 0.8)"
   ]
  },
  {
   "cell_type": "markdown",
   "metadata": {},
   "source": [
    "#### ii) Check target distribution "
   ]
  },
  {
   "cell_type": "code",
   "execution_count": 15,
   "metadata": {},
   "outputs": [
    {
     "name": "stdout",
     "output_type": "stream",
     "text": [
      "            train    test\n",
      "Status                   \n",
      "Normal      31656  8928.0\n",
      "Broke           2     NaN\n",
      "Recovering   4054     NaN\n"
     ]
    }
   ],
   "source": [
    "# check distribution of our target in the split, it is not good\n",
    "check_target_split(train, test, target='Status')"
   ]
  },
  {
   "cell_type": "code",
   "execution_count": 16,
   "metadata": {},
   "outputs": [
    {
     "name": "stdout",
     "output_type": "stream",
     "text": [
      "            train   test\n",
      "Status                  \n",
      "Normal      21375  19209\n",
      "Broke           1      1\n",
      "Recovering    944   3110\n"
     ]
    }
   ],
   "source": [
    "# make another split \n",
    "train, test = time_train_test_split(raw, proportion = 0.5)\n",
    "\n",
    "# check distribution of our target in the split, it looks good\n",
    "check_target_split(train, test, target='Status')"
   ]
  },
  {
   "cell_type": "markdown",
   "metadata": {},
   "source": [
    "#### iii) Check day distribution"
   ]
  },
  {
   "cell_type": "code",
   "execution_count": 17,
   "metadata": {},
   "outputs": [
    {
     "name": "stdout",
     "output_type": "stream",
     "text": [
      "Mon      2.0\n",
      "Tues     2.0\n",
      "Wed      3.0\n",
      "Thurs    2.5\n",
      "Fri      2.0\n",
      "Sat      2.0\n",
      "Sun      2.0\n",
      "Name: Time, dtype: float64\n"
     ]
    }
   ],
   "source": [
    "# but note we have an uneven split of days \n",
    "check_number_of_full_days(train.index)"
   ]
  },
  {
   "cell_type": "code",
   "execution_count": 18,
   "metadata": {},
   "outputs": [
    {
     "name": "stdout",
     "output_type": "stream",
     "text": [
      "            train   test\n",
      "Status                  \n",
      "Normal      19215  21369\n",
      "Broke           1      1\n",
      "Recovering    944   3110\n",
      "----------------------------------------\n",
      "Mon      2.0\n",
      "Tues     2.0\n",
      "Wed      2.0\n",
      "Thurs    2.0\n",
      "Fri      2.0\n",
      "Sat      2.0\n",
      "Sun      2.0\n",
      "Name: Time, dtype: float64\n"
     ]
    }
   ],
   "source": [
    "# make another split\n",
    "train, test = time_train_test_split(raw, proportion = 14/31)\n",
    "\n",
    "# check target split again\n",
    "check_target_split(train, test, target='Status')\n",
    "\n",
    "# check day split again\n",
    "print('-'*40)\n",
    "check_number_of_full_days(train.index)"
   ]
  },
  {
   "cell_type": "code",
   "execution_count": 19,
   "metadata": {},
   "outputs": [],
   "source": [
    "# save files\n",
    "train.to_csv('../input/train/data.csv')\n",
    "test.to_csv('../input/test/data.csv')"
   ]
  },
  {
   "cell_type": "markdown",
   "metadata": {},
   "source": [
    "### Constructing training set: window size and lag "
   ]
  },
  {
   "cell_type": "code",
   "execution_count": 20,
   "metadata": {},
   "outputs": [],
   "source": [
    "from sktime.forecasting.model_selection import SlidingWindowSplitter"
   ]
  },
  {
   "cell_type": "code",
   "execution_count": 21,
   "metadata": {},
   "outputs": [
    {
     "data": {
      "text/plain": [
       "(array([ 0,  1,  2,  3,  4,  5,  6,  7,  8,  9, 10, 11, 12, 13, 14, 15, 16,\n",
       "        17, 18, 19, 20, 21, 22, 23, 24, 25, 26, 27, 28, 29, 30, 31, 32, 33,\n",
       "        34, 35, 36, 37, 38, 39, 40, 41, 42, 43, 44, 45, 46, 47, 48, 49, 50,\n",
       "        51, 52, 53, 54, 55, 56, 57, 58, 59], dtype=int64),\n",
       " array([64], dtype=int64))"
      ]
     },
     "execution_count": 21,
     "metadata": {},
     "output_type": "execute_result"
    }
   ],
   "source": [
    "# this splitter also uses window of 1 hour of data, but now we predict 5 minutes after the end of the window\n",
    "splitter_60_future = SlidingWindowSplitter(window_length = 60, step_length = 1, fh = 5, start_with_window = True)\n",
    "\n",
    "split = splitter_60_future.split(raw.index)\n",
    "\n",
    "# we can see the ground truth index is 5 after end of our input window\n",
    "next(split)"
   ]
  },
  {
   "cell_type": "code",
   "execution_count": 22,
   "metadata": {},
   "outputs": [
    {
     "data": {
      "text/plain": [
       "(array([ 1,  2,  3,  4,  5,  6,  7,  8,  9, 10, 11, 12, 13, 14, 15, 16, 17,\n",
       "        18, 19, 20, 21, 22, 23, 24, 25, 26, 27, 28, 29, 30, 31, 32, 33, 34,\n",
       "        35, 36, 37, 38, 39, 40, 41, 42, 43, 44, 45, 46, 47, 48, 49, 50, 51,\n",
       "        52, 53, 54, 55, 56, 57, 58, 59, 60], dtype=int64),\n",
       " array([65], dtype=int64))"
      ]
     },
     "execution_count": 22,
     "metadata": {},
     "output_type": "execute_result"
    }
   ],
   "source": [
    "next(split)"
   ]
  },
  {
   "cell_type": "code",
   "execution_count": 23,
   "metadata": {},
   "outputs": [
    {
     "data": {
      "text/plain": [
       "(array([ 0,  1,  2,  3,  4,  5,  6,  7,  8,  9, 10, 11, 12, 13, 14, 15, 16,\n",
       "        17, 18, 19, 20, 21, 22, 23, 24, 25, 26, 27, 28, 29, 30, 31, 32, 33,\n",
       "        34, 35, 36, 37, 38, 39, 40, 41, 42, 43, 44, 45, 46, 47, 48, 49, 50,\n",
       "        51, 52, 53, 54, 55, 56, 57, 58, 59], dtype=int64),\n",
       " array([59], dtype=int64))"
      ]
     },
     "execution_count": 23,
     "metadata": {},
     "output_type": "execute_result"
    }
   ],
   "source": [
    "# this splitter means each prediction uses window of 1 hour of data, to predict final minute of that window\n",
    "splitter_60_present = SlidingWindowSplitter(window_length = 60, step_length = 1, fh = 0)\n",
    "\n",
    "# now the ground truth index is at end of input window\n",
    "next(splitter_60_present.split(raw.index))"
   ]
  },
  {
   "cell_type": "code",
   "execution_count": 24,
   "metadata": {},
   "outputs": [
    {
     "data": {
      "text/plain": [
       "(array([ 0,  1,  2,  3,  4,  5,  6,  7,  8,  9, 10, 11, 12, 13, 14, 15, 16,\n",
       "        17, 18, 19, 20, 21, 22, 23, 24, 25, 26, 27, 28, 29], dtype=int64),\n",
       " array([29], dtype=int64))"
      ]
     },
     "execution_count": 24,
     "metadata": {},
     "output_type": "execute_result"
    }
   ],
   "source": [
    "# we can also look at alternatively with a smaller window\n",
    "splitter_30_present = SlidingWindowSplitter(window_length = 30, step_length = 1, fh = 0)\n",
    "\n",
    "# because we have a smaller window we can now predict for index 29, which we couldn't before\n",
    "# this splitter results in 30 more training data points than the previous ones, because 60-30=30\n",
    "next(splitter_30_present.split(raw.index))"
   ]
  },
  {
   "cell_type": "code",
   "execution_count": 25,
   "metadata": {},
   "outputs": [
    {
     "data": {
      "text/plain": [
       "Text(0.5, 0, 'Time index')"
      ]
     },
     "execution_count": 25,
     "metadata": {},
     "output_type": "execute_result"
    },
    {
     "data": {
      "image/png": "[encoded data removed]",
      "text/plain": [
       "<Figure size 1080x360 with 1 Axes>"
      ]
     },
     "metadata": {
      "needs_background": "light"
     },
     "output_type": "display_data"
    }
   ],
   "source": [
    "# rough figure to visualise the difference beteen these options\n",
    "fig, ax = plt.subplots(figsize=(15,5), )\n",
    "\n",
    "ax.plot(np.arange(30,60), np.repeat(1,30), marker='x',  color='b')\n",
    "ax.scatter([59], [1], marker='o', color='r',)\n",
    "\n",
    "ax.plot(np.arange(60), np.repeat(2,60), marker='x', color='b')\n",
    "ax.scatter([59], [2], marker='o', color='r')\n",
    "\n",
    "ax.plot(np.arange(60), np.repeat(3,60), marker='x', color='b', label='Feature set')\n",
    "ax.scatter([64], [3], marker='o', color='r', label='Ground truth')\n",
    "\n",
    "ax.legend()\n",
    "\n",
    "ax.set_yticks([1,2,3])\n",
    "ax.set_yticklabels(['Window=30, Lag=0', 'Window=60, Lag=0','Window=60, Lag=5',])\n",
    "ax.set_ylim(0,4)\n",
    "ax.set_xlabel('Time index')"
   ]
  },
  {
   "cell_type": "code",
   "execution_count": 26,
   "metadata": {},
   "outputs": [],
   "source": [
    "# function to create our training set\n",
    "from ml_pipeline.dataset import create_windows\n",
    "X, y = create_windows(raw.iloc[:100])"
   ]
  },
  {
   "cell_type": "code",
   "execution_count": 27,
   "metadata": {},
   "outputs": [
    {
     "data": {
      "text/plain": [
       "Time\n",
       "2020-01-01 00:34:00    0.0\n",
       "Name: Status, dtype: float64"
      ]
     },
     "execution_count": 27,
     "metadata": {},
     "output_type": "execute_result"
    }
   ],
   "source": [
    "# check it has worked for one example\n",
    "y[5]"
   ]
  },
  {
   "cell_type": "code",
   "execution_count": 28,
   "metadata": {},
   "outputs": [
    {
     "data": {
      "text/html": [
       "<div>\n",
       "<style scoped>\n",
       "    .dataframe tbody tr th:only-of-type {\n",
       "        vertical-align: middle;\n",
       "    }\n",
       "\n",
       "    .dataframe tbody tr th {\n",
       "        vertical-align: top;\n",
       "    }\n",
       "\n",
       "    .dataframe thead th {\n",
       "        text-align: right;\n",
       "    }\n",
       "</style>\n",
       "<table border=\"1\" class=\"dataframe\">\n",
       "  <thead>\n",
       "    <tr style=\"text-align: right;\">\n",
       "      <th></th>\n",
       "      <th>Temperature</th>\n",
       "      <th>Humidity</th>\n",
       "      <th>RPM</th>\n",
       "      <th>Vibrations</th>\n",
       "      <th>Pressure</th>\n",
       "      <th>Sensor1</th>\n",
       "      <th>Sensor2</th>\n",
       "      <th>Sensor3</th>\n",
       "      <th>Sensor4</th>\n",
       "      <th>Sensor5</th>\n",
       "      <th>Sensor6</th>\n",
       "    </tr>\n",
       "    <tr>\n",
       "      <th>Time</th>\n",
       "      <th></th>\n",
       "      <th></th>\n",
       "      <th></th>\n",
       "      <th></th>\n",
       "      <th></th>\n",
       "      <th></th>\n",
       "      <th></th>\n",
       "      <th></th>\n",
       "      <th></th>\n",
       "      <th></th>\n",
       "      <th></th>\n",
       "    </tr>\n",
       "  </thead>\n",
       "  <tbody>\n",
       "    <tr>\n",
       "      <th>2020-01-01 00:05:00</th>\n",
       "      <td>32.23816</td>\n",
       "      <td>73.9204</td>\n",
       "      <td>72.0</td>\n",
       "      <td>16.73</td>\n",
       "      <td>75.0</td>\n",
       "      <td>0.787522</td>\n",
       "      <td>203.468094</td>\n",
       "      <td>0.607532</td>\n",
       "      <td>817.505850</td>\n",
       "      <td>7.115405</td>\n",
       "      <td>15.842287</td>\n",
       "    </tr>\n",
       "    <tr>\n",
       "      <th>2020-01-01 00:06:00</th>\n",
       "      <td>32.00982</td>\n",
       "      <td>74.0952</td>\n",
       "      <td>72.0</td>\n",
       "      <td>16.85</td>\n",
       "      <td>76.0</td>\n",
       "      <td>0.792934</td>\n",
       "      <td>204.161451</td>\n",
       "      <td>0.634225</td>\n",
       "      <td>842.946300</td>\n",
       "      <td>7.121112</td>\n",
       "      <td>15.867920</td>\n",
       "    </tr>\n",
       "    <tr>\n",
       "      <th>2020-01-01 00:07:00</th>\n",
       "      <td>31.88320</td>\n",
       "      <td>74.1459</td>\n",
       "      <td>72.0</td>\n",
       "      <td>16.47</td>\n",
       "      <td>75.0</td>\n",
       "      <td>0.774984</td>\n",
       "      <td>202.810971</td>\n",
       "      <td>0.658783</td>\n",
       "      <td>820.367683</td>\n",
       "      <td>7.103994</td>\n",
       "      <td>15.654291</td>\n",
       "    </tr>\n",
       "    <tr>\n",
       "      <th>2020-01-01 00:08:00</th>\n",
       "      <td>32.09234</td>\n",
       "      <td>74.3597</td>\n",
       "      <td>72.0</td>\n",
       "      <td>16.86</td>\n",
       "      <td>76.0</td>\n",
       "      <td>0.793485</td>\n",
       "      <td>205.009169</td>\n",
       "      <td>0.671595</td>\n",
       "      <td>835.896600</td>\n",
       "      <td>7.143935</td>\n",
       "      <td>15.697017</td>\n",
       "    </tr>\n",
       "    <tr>\n",
       "      <th>2020-01-01 00:09:00</th>\n",
       "      <td>32.25679</td>\n",
       "      <td>74.6621</td>\n",
       "      <td>72.0</td>\n",
       "      <td>16.38</td>\n",
       "      <td>76.0</td>\n",
       "      <td>0.770717</td>\n",
       "      <td>204.696709</td>\n",
       "      <td>0.688679</td>\n",
       "      <td>837.239550</td>\n",
       "      <td>7.092582</td>\n",
       "      <td>15.808102</td>\n",
       "    </tr>\n",
       "    <tr>\n",
       "      <th>2020-01-01 00:10:00</th>\n",
       "      <td>32.80076</td>\n",
       "      <td>74.6067</td>\n",
       "      <td>72.0</td>\n",
       "      <td>16.79</td>\n",
       "      <td>76.0</td>\n",
       "      <td>0.790063</td>\n",
       "      <td>203.676514</td>\n",
       "      <td>0.704694</td>\n",
       "      <td>824.096467</td>\n",
       "      <td>7.146789</td>\n",
       "      <td>15.842287</td>\n",
       "    </tr>\n",
       "    <tr>\n",
       "      <th>2020-01-01 00:11:00</th>\n",
       "      <td>33.14559</td>\n",
       "      <td>74.1416</td>\n",
       "      <td>72.0</td>\n",
       "      <td>16.26</td>\n",
       "      <td>76.0</td>\n",
       "      <td>0.765092</td>\n",
       "      <td>204.119923</td>\n",
       "      <td>0.714304</td>\n",
       "      <td>819.024617</td>\n",
       "      <td>7.089729</td>\n",
       "      <td>15.842287</td>\n",
       "    </tr>\n",
       "    <tr>\n",
       "      <th>2020-01-01 00:12:00</th>\n",
       "      <td>33.46326</td>\n",
       "      <td>74.1461</td>\n",
       "      <td>72.0</td>\n",
       "      <td>16.42</td>\n",
       "      <td>76.0</td>\n",
       "      <td>0.772594</td>\n",
       "      <td>204.478331</td>\n",
       "      <td>0.721778</td>\n",
       "      <td>807.655100</td>\n",
       "      <td>7.135375</td>\n",
       "      <td>15.765376</td>\n",
       "    </tr>\n",
       "    <tr>\n",
       "      <th>2020-01-01 00:13:00</th>\n",
       "      <td>33.63691</td>\n",
       "      <td>73.9138</td>\n",
       "      <td>72.0</td>\n",
       "      <td>16.76</td>\n",
       "      <td>76.0</td>\n",
       "      <td>0.788602</td>\n",
       "      <td>203.017643</td>\n",
       "      <td>0.724981</td>\n",
       "      <td>832.630400</td>\n",
       "      <td>7.101140</td>\n",
       "      <td>15.731202</td>\n",
       "    </tr>\n",
       "    <tr>\n",
       "      <th>2020-01-01 00:14:00</th>\n",
       "      <td>34.46501</td>\n",
       "      <td>73.9183</td>\n",
       "      <td>72.0</td>\n",
       "      <td>16.21</td>\n",
       "      <td>76.0</td>\n",
       "      <td>0.762799</td>\n",
       "      <td>203.940403</td>\n",
       "      <td>0.758080</td>\n",
       "      <td>806.805183</td>\n",
       "      <td>7.115405</td>\n",
       "      <td>15.816654</td>\n",
       "    </tr>\n",
       "    <tr>\n",
       "      <th>2020-01-01 00:15:00</th>\n",
       "      <td>35.90224</td>\n",
       "      <td>73.9137</td>\n",
       "      <td>72.0</td>\n",
       "      <td>16.76</td>\n",
       "      <td>76.0</td>\n",
       "      <td>0.788683</td>\n",
       "      <td>204.284094</td>\n",
       "      <td>0.800789</td>\n",
       "      <td>829.243100</td>\n",
       "      <td>7.121112</td>\n",
       "      <td>15.773928</td>\n",
       "    </tr>\n",
       "    <tr>\n",
       "      <th>2020-01-01 00:16:00</th>\n",
       "      <td>36.59018</td>\n",
       "      <td>74.0630</td>\n",
       "      <td>72.0</td>\n",
       "      <td>17.01</td>\n",
       "      <td>76.0</td>\n",
       "      <td>0.800651</td>\n",
       "      <td>204.093500</td>\n",
       "      <td>0.845634</td>\n",
       "      <td>818.690833</td>\n",
       "      <td>7.103994</td>\n",
       "      <td>15.714110</td>\n",
       "    </tr>\n",
       "    <tr>\n",
       "      <th>2020-01-01 00:17:00</th>\n",
       "      <td>36.85331</td>\n",
       "      <td>74.5665</td>\n",
       "      <td>72.0</td>\n",
       "      <td>17.44</td>\n",
       "      <td>76.0</td>\n",
       "      <td>0.820680</td>\n",
       "      <td>204.762669</td>\n",
       "      <td>0.883004</td>\n",
       "      <td>830.732233</td>\n",
       "      <td>7.143935</td>\n",
       "      <td>15.765376</td>\n",
       "    </tr>\n",
       "    <tr>\n",
       "      <th>2020-01-01 00:18:00</th>\n",
       "      <td>36.81083</td>\n",
       "      <td>74.0603</td>\n",
       "      <td>72.0</td>\n",
       "      <td>17.03</td>\n",
       "      <td>75.0</td>\n",
       "      <td>0.801439</td>\n",
       "      <td>202.636649</td>\n",
       "      <td>0.887275</td>\n",
       "      <td>815.090733</td>\n",
       "      <td>7.092582</td>\n",
       "      <td>15.765376</td>\n",
       "    </tr>\n",
       "    <tr>\n",
       "      <th>2020-01-01 00:19:00</th>\n",
       "      <td>36.43420</td>\n",
       "      <td>73.8333</td>\n",
       "      <td>72.0</td>\n",
       "      <td>17.33</td>\n",
       "      <td>76.0</td>\n",
       "      <td>0.815319</td>\n",
       "      <td>204.464294</td>\n",
       "      <td>0.864852</td>\n",
       "      <td>813.293950</td>\n",
       "      <td>7.146789</td>\n",
       "      <td>15.765376</td>\n",
       "    </tr>\n",
       "    <tr>\n",
       "      <th>2020-01-01 00:20:00</th>\n",
       "      <td>36.60661</td>\n",
       "      <td>73.9128</td>\n",
       "      <td>72.0</td>\n",
       "      <td>17.84</td>\n",
       "      <td>76.0</td>\n",
       "      <td>0.839607</td>\n",
       "      <td>203.819120</td>\n",
       "      <td>0.816805</td>\n",
       "      <td>817.885367</td>\n",
       "      <td>7.092582</td>\n",
       "      <td>15.765376</td>\n",
       "    </tr>\n",
       "    <tr>\n",
       "      <th>2020-01-01 00:21:00</th>\n",
       "      <td>37.28117</td>\n",
       "      <td>74.0060</td>\n",
       "      <td>72.0</td>\n",
       "      <td>18.67</td>\n",
       "      <td>76.0</td>\n",
       "      <td>0.878502</td>\n",
       "      <td>204.523891</td>\n",
       "      <td>0.780503</td>\n",
       "      <td>818.136433</td>\n",
       "      <td>7.135375</td>\n",
       "      <td>15.765376</td>\n",
       "    </tr>\n",
       "    <tr>\n",
       "      <th>2020-01-01 00:22:00</th>\n",
       "      <td>37.80445</td>\n",
       "      <td>74.0582</td>\n",
       "      <td>72.0</td>\n",
       "      <td>18.93</td>\n",
       "      <td>76.0</td>\n",
       "      <td>0.890634</td>\n",
       "      <td>203.900866</td>\n",
       "      <td>0.775164</td>\n",
       "      <td>817.930633</td>\n",
       "      <td>7.101140</td>\n",
       "      <td>15.842287</td>\n",
       "    </tr>\n",
       "    <tr>\n",
       "      <th>2020-01-01 00:23:00</th>\n",
       "      <td>37.12904</td>\n",
       "      <td>73.9125</td>\n",
       "      <td>72.0</td>\n",
       "      <td>17.94</td>\n",
       "      <td>76.0</td>\n",
       "      <td>0.844280</td>\n",
       "      <td>204.232803</td>\n",
       "      <td>0.775164</td>\n",
       "      <td>817.108833</td>\n",
       "      <td>7.115405</td>\n",
       "      <td>15.765376</td>\n",
       "    </tr>\n",
       "    <tr>\n",
       "      <th>2020-01-01 00:24:00</th>\n",
       "      <td>37.33102</td>\n",
       "      <td>73.9764</td>\n",
       "      <td>72.0</td>\n",
       "      <td>17.27</td>\n",
       "      <td>75.0</td>\n",
       "      <td>0.812638</td>\n",
       "      <td>203.360071</td>\n",
       "      <td>0.765555</td>\n",
       "      <td>807.572967</td>\n",
       "      <td>7.115405</td>\n",
       "      <td>15.731202</td>\n",
       "    </tr>\n",
       "    <tr>\n",
       "      <th>2020-01-01 00:25:00</th>\n",
       "      <td>37.61170</td>\n",
       "      <td>73.9966</td>\n",
       "      <td>72.0</td>\n",
       "      <td>18.07</td>\n",
       "      <td>76.0</td>\n",
       "      <td>0.850224</td>\n",
       "      <td>204.357437</td>\n",
       "      <td>0.760216</td>\n",
       "      <td>824.054350</td>\n",
       "      <td>7.103994</td>\n",
       "      <td>15.765376</td>\n",
       "    </tr>\n",
       "    <tr>\n",
       "      <th>2020-01-01 00:26:00</th>\n",
       "      <td>37.71874</td>\n",
       "      <td>74.0346</td>\n",
       "      <td>72.0</td>\n",
       "      <td>17.70</td>\n",
       "      <td>76.0</td>\n",
       "      <td>0.833152</td>\n",
       "      <td>205.025780</td>\n",
       "      <td>0.751674</td>\n",
       "      <td>825.718717</td>\n",
       "      <td>7.132524</td>\n",
       "      <td>15.697017</td>\n",
       "    </tr>\n",
       "    <tr>\n",
       "      <th>2020-01-01 00:27:00</th>\n",
       "      <td>37.83118</td>\n",
       "      <td>73.7960</td>\n",
       "      <td>72.0</td>\n",
       "      <td>19.28</td>\n",
       "      <td>76.0</td>\n",
       "      <td>0.907357</td>\n",
       "      <td>204.052506</td>\n",
       "      <td>0.742065</td>\n",
       "      <td>812.390367</td>\n",
       "      <td>7.101140</td>\n",
       "      <td>15.944820</td>\n",
       "    </tr>\n",
       "    <tr>\n",
       "      <th>2020-01-01 00:28:00</th>\n",
       "      <td>37.27541</td>\n",
       "      <td>73.9289</td>\n",
       "      <td>72.0</td>\n",
       "      <td>18.46</td>\n",
       "      <td>76.0</td>\n",
       "      <td>0.868763</td>\n",
       "      <td>203.363617</td>\n",
       "      <td>0.732455</td>\n",
       "      <td>806.867950</td>\n",
       "      <td>7.146789</td>\n",
       "      <td>15.850828</td>\n",
       "    </tr>\n",
       "    <tr>\n",
       "      <th>2020-01-01 00:29:00</th>\n",
       "      <td>36.53423</td>\n",
       "      <td>73.9913</td>\n",
       "      <td>72.0</td>\n",
       "      <td>18.23</td>\n",
       "      <td>76.0</td>\n",
       "      <td>0.858102</td>\n",
       "      <td>203.178026</td>\n",
       "      <td>0.726049</td>\n",
       "      <td>796.117933</td>\n",
       "      <td>7.089729</td>\n",
       "      <td>15.697017</td>\n",
       "    </tr>\n",
       "    <tr>\n",
       "      <th>2020-01-01 00:30:00</th>\n",
       "      <td>37.06275</td>\n",
       "      <td>73.7797</td>\n",
       "      <td>72.0</td>\n",
       "      <td>17.29</td>\n",
       "      <td>76.0</td>\n",
       "      <td>0.813868</td>\n",
       "      <td>204.261751</td>\n",
       "      <td>0.736726</td>\n",
       "      <td>807.291800</td>\n",
       "      <td>7.143935</td>\n",
       "      <td>15.628658</td>\n",
       "    </tr>\n",
       "    <tr>\n",
       "      <th>2020-01-01 00:31:00</th>\n",
       "      <td>37.35512</td>\n",
       "      <td>73.8141</td>\n",
       "      <td>72.0</td>\n",
       "      <td>18.03</td>\n",
       "      <td>76.0</td>\n",
       "      <td>0.848354</td>\n",
       "      <td>204.011754</td>\n",
       "      <td>0.746335</td>\n",
       "      <td>828.528633</td>\n",
       "      <td>7.101140</td>\n",
       "      <td>15.628658</td>\n",
       "    </tr>\n",
       "    <tr>\n",
       "      <th>2020-01-01 00:32:00</th>\n",
       "      <td>37.03322</td>\n",
       "      <td>73.9401</td>\n",
       "      <td>72.0</td>\n",
       "      <td>17.43</td>\n",
       "      <td>76.0</td>\n",
       "      <td>0.820105</td>\n",
       "      <td>203.187594</td>\n",
       "      <td>0.747403</td>\n",
       "      <td>812.061483</td>\n",
       "      <td>7.115405</td>\n",
       "      <td>15.885013</td>\n",
       "    </tr>\n",
       "    <tr>\n",
       "      <th>2020-01-01 00:33:00</th>\n",
       "      <td>37.06554</td>\n",
       "      <td>74.0039</td>\n",
       "      <td>72.0</td>\n",
       "      <td>16.52</td>\n",
       "      <td>76.0</td>\n",
       "      <td>0.777303</td>\n",
       "      <td>202.727866</td>\n",
       "      <td>0.760216</td>\n",
       "      <td>807.663267</td>\n",
       "      <td>7.121112</td>\n",
       "      <td>15.765376</td>\n",
       "    </tr>\n",
       "    <tr>\n",
       "      <th>2020-01-01 00:34:00</th>\n",
       "      <td>36.40334</td>\n",
       "      <td>73.9690</td>\n",
       "      <td>72.0</td>\n",
       "      <td>17.85</td>\n",
       "      <td>76.0</td>\n",
       "      <td>0.840036</td>\n",
       "      <td>204.849417</td>\n",
       "      <td>0.774096</td>\n",
       "      <td>799.609067</td>\n",
       "      <td>7.103994</td>\n",
       "      <td>15.731202</td>\n",
       "    </tr>\n",
       "  </tbody>\n",
       "</table>\n",
       "</div>"
      ],
      "text/plain": [
       "                     Temperature  Humidity   RPM  Vibrations  Pressure  \\\n",
       "Time                                                                     \n",
       "2020-01-01 00:05:00     32.23816   73.9204  72.0       16.73      75.0   \n",
       "2020-01-01 00:06:00     32.00982   74.0952  72.0       16.85      76.0   \n",
       "2020-01-01 00:07:00     31.88320   74.1459  72.0       16.47      75.0   \n",
       "2020-01-01 00:08:00     32.09234   74.3597  72.0       16.86      76.0   \n",
       "2020-01-01 00:09:00     32.25679   74.6621  72.0       16.38      76.0   \n",
       "2020-01-01 00:10:00     32.80076   74.6067  72.0       16.79      76.0   \n",
       "2020-01-01 00:11:00     33.14559   74.1416  72.0       16.26      76.0   \n",
       "2020-01-01 00:12:00     33.46326   74.1461  72.0       16.42      76.0   \n",
       "2020-01-01 00:13:00     33.63691   73.9138  72.0       16.76      76.0   \n",
       "2020-01-01 00:14:00     34.46501   73.9183  72.0       16.21      76.0   \n",
       "2020-01-01 00:15:00     35.90224   73.9137  72.0       16.76      76.0   \n",
       "2020-01-01 00:16:00     36.59018   74.0630  72.0       17.01      76.0   \n",
       "2020-01-01 00:17:00     36.85331   74.5665  72.0       17.44      76.0   \n",
       "2020-01-01 00:18:00     36.81083   74.0603  72.0       17.03      75.0   \n",
       "2020-01-01 00:19:00     36.43420   73.8333  72.0       17.33      76.0   \n",
       "2020-01-01 00:20:00     36.60661   73.9128  72.0       17.84      76.0   \n",
       "2020-01-01 00:21:00     37.28117   74.0060  72.0       18.67      76.0   \n",
       "2020-01-01 00:22:00     37.80445   74.0582  72.0       18.93      76.0   \n",
       "2020-01-01 00:23:00     37.12904   73.9125  72.0       17.94      76.0   \n",
       "2020-01-01 00:24:00     37.33102   73.9764  72.0       17.27      75.0   \n",
       "2020-01-01 00:25:00     37.61170   73.9966  72.0       18.07      76.0   \n",
       "2020-01-01 00:26:00     37.71874   74.0346  72.0       17.70      76.0   \n",
       "2020-01-01 00:27:00     37.83118   73.7960  72.0       19.28      76.0   \n",
       "2020-01-01 00:28:00     37.27541   73.9289  72.0       18.46      76.0   \n",
       "2020-01-01 00:29:00     36.53423   73.9913  72.0       18.23      76.0   \n",
       "2020-01-01 00:30:00     37.06275   73.7797  72.0       17.29      76.0   \n",
       "2020-01-01 00:31:00     37.35512   73.8141  72.0       18.03      76.0   \n",
       "2020-01-01 00:32:00     37.03322   73.9401  72.0       17.43      76.0   \n",
       "2020-01-01 00:33:00     37.06554   74.0039  72.0       16.52      76.0   \n",
       "2020-01-01 00:34:00     36.40334   73.9690  72.0       17.85      76.0   \n",
       "\n",
       "                      Sensor1     Sensor2   Sensor3     Sensor4   Sensor5  \\\n",
       "Time                                                                        \n",
       "2020-01-01 00:05:00  0.787522  203.468094  0.607532  817.505850  7.115405   \n",
       "2020-01-01 00:06:00  0.792934  204.161451  0.634225  842.946300  7.121112   \n",
       "2020-01-01 00:07:00  0.774984  202.810971  0.658783  820.367683  7.103994   \n",
       "2020-01-01 00:08:00  0.793485  205.009169  0.671595  835.896600  7.143935   \n",
       "2020-01-01 00:09:00  0.770717  204.696709  0.688679  837.239550  7.092582   \n",
       "2020-01-01 00:10:00  0.790063  203.676514  0.704694  824.096467  7.146789   \n",
       "2020-01-01 00:11:00  0.765092  204.119923  0.714304  819.024617  7.089729   \n",
       "2020-01-01 00:12:00  0.772594  204.478331  0.721778  807.655100  7.135375   \n",
       "2020-01-01 00:13:00  0.788602  203.017643  0.724981  832.630400  7.101140   \n",
       "2020-01-01 00:14:00  0.762799  203.940403  0.758080  806.805183  7.115405   \n",
       "2020-01-01 00:15:00  0.788683  204.284094  0.800789  829.243100  7.121112   \n",
       "2020-01-01 00:16:00  0.800651  204.093500  0.845634  818.690833  7.103994   \n",
       "2020-01-01 00:17:00  0.820680  204.762669  0.883004  830.732233  7.143935   \n",
       "2020-01-01 00:18:00  0.801439  202.636649  0.887275  815.090733  7.092582   \n",
       "2020-01-01 00:19:00  0.815319  204.464294  0.864852  813.293950  7.146789   \n",
       "2020-01-01 00:20:00  0.839607  203.819120  0.816805  817.885367  7.092582   \n",
       "2020-01-01 00:21:00  0.878502  204.523891  0.780503  818.136433  7.135375   \n",
       "2020-01-01 00:22:00  0.890634  203.900866  0.775164  817.930633  7.101140   \n",
       "2020-01-01 00:23:00  0.844280  204.232803  0.775164  817.108833  7.115405   \n",
       "2020-01-01 00:24:00  0.812638  203.360071  0.765555  807.572967  7.115405   \n",
       "2020-01-01 00:25:00  0.850224  204.357437  0.760216  824.054350  7.103994   \n",
       "2020-01-01 00:26:00  0.833152  205.025780  0.751674  825.718717  7.132524   \n",
       "2020-01-01 00:27:00  0.907357  204.052506  0.742065  812.390367  7.101140   \n",
       "2020-01-01 00:28:00  0.868763  203.363617  0.732455  806.867950  7.146789   \n",
       "2020-01-01 00:29:00  0.858102  203.178026  0.726049  796.117933  7.089729   \n",
       "2020-01-01 00:30:00  0.813868  204.261751  0.736726  807.291800  7.143935   \n",
       "2020-01-01 00:31:00  0.848354  204.011754  0.746335  828.528633  7.101140   \n",
       "2020-01-01 00:32:00  0.820105  203.187594  0.747403  812.061483  7.115405   \n",
       "2020-01-01 00:33:00  0.777303  202.727866  0.760216  807.663267  7.121112   \n",
       "2020-01-01 00:34:00  0.840036  204.849417  0.774096  799.609067  7.103994   \n",
       "\n",
       "                       Sensor6  \n",
       "Time                            \n",
       "2020-01-01 00:05:00  15.842287  \n",
       "2020-01-01 00:06:00  15.867920  \n",
       "2020-01-01 00:07:00  15.654291  \n",
       "2020-01-01 00:08:00  15.697017  \n",
       "2020-01-01 00:09:00  15.808102  \n",
       "2020-01-01 00:10:00  15.842287  \n",
       "2020-01-01 00:11:00  15.842287  \n",
       "2020-01-01 00:12:00  15.765376  \n",
       "2020-01-01 00:13:00  15.731202  \n",
       "2020-01-01 00:14:00  15.816654  \n",
       "2020-01-01 00:15:00  15.773928  \n",
       "2020-01-01 00:16:00  15.714110  \n",
       "2020-01-01 00:17:00  15.765376  \n",
       "2020-01-01 00:18:00  15.765376  \n",
       "2020-01-01 00:19:00  15.765376  \n",
       "2020-01-01 00:20:00  15.765376  \n",
       "2020-01-01 00:21:00  15.765376  \n",
       "2020-01-01 00:22:00  15.842287  \n",
       "2020-01-01 00:23:00  15.765376  \n",
       "2020-01-01 00:24:00  15.731202  \n",
       "2020-01-01 00:25:00  15.765376  \n",
       "2020-01-01 00:26:00  15.697017  \n",
       "2020-01-01 00:27:00  15.944820  \n",
       "2020-01-01 00:28:00  15.850828  \n",
       "2020-01-01 00:29:00  15.697017  \n",
       "2020-01-01 00:30:00  15.628658  \n",
       "2020-01-01 00:31:00  15.628658  \n",
       "2020-01-01 00:32:00  15.885013  \n",
       "2020-01-01 00:33:00  15.765376  \n",
       "2020-01-01 00:34:00  15.731202  "
      ]
     },
     "execution_count": 28,
     "metadata": {},
     "output_type": "execute_result"
    }
   ],
   "source": [
    "X[5]"
   ]
  },
  {
   "cell_type": "code",
   "execution_count": null,
   "metadata": {},
   "outputs": [],
   "source": []
  },
  {
   "cell_type": "code",
   "execution_count": null,
   "metadata": {},
   "outputs": [],
   "source": []
  },
  {
   "cell_type": "markdown",
   "metadata": {},
   "source": [
    "### Pandas methods for time series"
   ]
  },
  {
   "cell_type": "markdown",
   "metadata": {},
   "source": [
    "#### pd.DataFrame.diff"
   ]
  },
  {
   "cell_type": "code",
   "execution_count": 29,
   "metadata": {},
   "outputs": [
    {
     "data": {
      "text/html": [
       "<div>\n",
       "<style scoped>\n",
       "    .dataframe tbody tr th:only-of-type {\n",
       "        vertical-align: middle;\n",
       "    }\n",
       "\n",
       "    .dataframe tbody tr th {\n",
       "        vertical-align: top;\n",
       "    }\n",
       "\n",
       "    .dataframe thead th {\n",
       "        text-align: right;\n",
       "    }\n",
       "</style>\n",
       "<table border=\"1\" class=\"dataframe\">\n",
       "  <thead>\n",
       "    <tr style=\"text-align: right;\">\n",
       "      <th></th>\n",
       "      <th>Temperature</th>\n",
       "      <th>Humidity</th>\n",
       "      <th>RPM</th>\n",
       "      <th>Vibrations</th>\n",
       "    </tr>\n",
       "    <tr>\n",
       "      <th>Time</th>\n",
       "      <th></th>\n",
       "      <th></th>\n",
       "      <th></th>\n",
       "      <th></th>\n",
       "    </tr>\n",
       "  </thead>\n",
       "  <tbody>\n",
       "    <tr>\n",
       "      <th>2020-01-01 00:00:00</th>\n",
       "      <td>31.11716</td>\n",
       "      <td>74.1715</td>\n",
       "      <td>72.0</td>\n",
       "      <td>16.81</td>\n",
       "    </tr>\n",
       "    <tr>\n",
       "      <th>2020-01-01 00:01:00</th>\n",
       "      <td>31.11716</td>\n",
       "      <td>74.1715</td>\n",
       "      <td>72.0</td>\n",
       "      <td>16.81</td>\n",
       "    </tr>\n",
       "    <tr>\n",
       "      <th>2020-01-01 00:02:00</th>\n",
       "      <td>32.08894</td>\n",
       "      <td>74.0803</td>\n",
       "      <td>72.0</td>\n",
       "      <td>17.08</td>\n",
       "    </tr>\n",
       "    <tr>\n",
       "      <th>2020-01-01 00:03:00</th>\n",
       "      <td>31.67221</td>\n",
       "      <td>73.9272</td>\n",
       "      <td>72.0</td>\n",
       "      <td>15.79</td>\n",
       "    </tr>\n",
       "  </tbody>\n",
       "</table>\n",
       "</div>"
      ],
      "text/plain": [
       "                     Temperature  Humidity   RPM  Vibrations\n",
       "Time                                                        \n",
       "2020-01-01 00:00:00     31.11716   74.1715  72.0       16.81\n",
       "2020-01-01 00:01:00     31.11716   74.1715  72.0       16.81\n",
       "2020-01-01 00:02:00     32.08894   74.0803  72.0       17.08\n",
       "2020-01-01 00:03:00     31.67221   73.9272  72.0       15.79"
      ]
     },
     "execution_count": 29,
     "metadata": {},
     "output_type": "execute_result"
    }
   ],
   "source": [
    "raw.iloc[:4,:4]"
   ]
  },
  {
   "cell_type": "code",
   "execution_count": 30,
   "metadata": {},
   "outputs": [
    {
     "data": {
      "text/html": [
       "<div>\n",
       "<style scoped>\n",
       "    .dataframe tbody tr th:only-of-type {\n",
       "        vertical-align: middle;\n",
       "    }\n",
       "\n",
       "    .dataframe tbody tr th {\n",
       "        vertical-align: top;\n",
       "    }\n",
       "\n",
       "    .dataframe thead th {\n",
       "        text-align: right;\n",
       "    }\n",
       "</style>\n",
       "<table border=\"1\" class=\"dataframe\">\n",
       "  <thead>\n",
       "    <tr style=\"text-align: right;\">\n",
       "      <th></th>\n",
       "      <th>Temperature</th>\n",
       "      <th>Humidity</th>\n",
       "      <th>RPM</th>\n",
       "      <th>Vibrations</th>\n",
       "    </tr>\n",
       "    <tr>\n",
       "      <th>Time</th>\n",
       "      <th></th>\n",
       "      <th></th>\n",
       "      <th></th>\n",
       "      <th></th>\n",
       "    </tr>\n",
       "  </thead>\n",
       "  <tbody>\n",
       "    <tr>\n",
       "      <th>2020-01-01 00:00:00</th>\n",
       "      <td>NaN</td>\n",
       "      <td>NaN</td>\n",
       "      <td>NaN</td>\n",
       "      <td>NaN</td>\n",
       "    </tr>\n",
       "    <tr>\n",
       "      <th>2020-01-01 00:01:00</th>\n",
       "      <td>NaN</td>\n",
       "      <td>NaN</td>\n",
       "      <td>NaN</td>\n",
       "      <td>NaN</td>\n",
       "    </tr>\n",
       "    <tr>\n",
       "      <th>2020-01-01 00:02:00</th>\n",
       "      <td>0.97178</td>\n",
       "      <td>-0.0912</td>\n",
       "      <td>0.0</td>\n",
       "      <td>0.27</td>\n",
       "    </tr>\n",
       "    <tr>\n",
       "      <th>2020-01-01 00:03:00</th>\n",
       "      <td>0.55505</td>\n",
       "      <td>-0.2443</td>\n",
       "      <td>0.0</td>\n",
       "      <td>-1.02</td>\n",
       "    </tr>\n",
       "  </tbody>\n",
       "</table>\n",
       "</div>"
      ],
      "text/plain": [
       "                     Temperature  Humidity  RPM  Vibrations\n",
       "Time                                                       \n",
       "2020-01-01 00:00:00          NaN       NaN  NaN         NaN\n",
       "2020-01-01 00:01:00          NaN       NaN  NaN         NaN\n",
       "2020-01-01 00:02:00      0.97178   -0.0912  0.0        0.27\n",
       "2020-01-01 00:03:00      0.55505   -0.2443  0.0       -1.02"
      ]
     },
     "execution_count": 30,
     "metadata": {},
     "output_type": "execute_result"
    }
   ],
   "source": [
    "raw.diff(periods=2, axis=0).iloc[:4,:4]"
   ]
  },
  {
   "cell_type": "markdown",
   "metadata": {},
   "source": [
    "#### pd.DataFrame.interpolate"
   ]
  },
  {
   "cell_type": "code",
   "execution_count": 31,
   "metadata": {},
   "outputs": [
    {
     "data": {
      "text/plain": [
       "Time\n",
       "2020-01-01 00:00:00    31.11716\n",
       "2020-01-01 00:01:00    31.11716\n",
       "2020-01-01 00:02:00    32.08894\n",
       "2020-01-01 00:03:00    31.67221\n",
       "2020-01-01 00:04:00    31.95202\n",
       "2020-01-01 00:05:00    32.23816\n",
       "2020-01-01 00:06:00    32.00982\n",
       "2020-01-01 00:07:00    31.88320\n",
       "2020-01-01 00:08:00    32.09234\n",
       "2020-01-01 00:09:00    32.25679\n",
       "Name: Temperature, dtype: float64"
      ]
     },
     "execution_count": 31,
     "metadata": {},
     "output_type": "execute_result"
    }
   ],
   "source": [
    "raw.Temperature.iloc[:10]"
   ]
  },
  {
   "cell_type": "code",
   "execution_count": 32,
   "metadata": {},
   "outputs": [],
   "source": [
    "ts_raw = raw.Temperature.iloc[:10].copy()\n",
    "ts_nulls = ts_raw.copy()\n",
    "ts_nulls.iloc[3:7] = np.nan"
   ]
  },
  {
   "cell_type": "code",
   "execution_count": 33,
   "metadata": {},
   "outputs": [
    {
     "data": {
      "text/plain": [
       "Time\n",
       "2020-01-01 00:00:00    31.11716\n",
       "2020-01-01 00:01:00    31.11716\n",
       "2020-01-01 00:02:00    32.08894\n",
       "2020-01-01 00:03:00         NaN\n",
       "2020-01-01 00:04:00         NaN\n",
       "2020-01-01 00:05:00         NaN\n",
       "2020-01-01 00:06:00         NaN\n",
       "2020-01-01 00:07:00    31.88320\n",
       "2020-01-01 00:08:00    32.09234\n",
       "2020-01-01 00:09:00    32.25679\n",
       "Name: Temperature, dtype: float64"
      ]
     },
     "execution_count": 33,
     "metadata": {},
     "output_type": "execute_result"
    }
   ],
   "source": [
    "ts_nulls"
   ]
  },
  {
   "cell_type": "code",
   "execution_count": 34,
   "metadata": {},
   "outputs": [
    {
     "data": {
      "text/plain": [
       "<AxesSubplot:xlabel='Time'>"
      ]
     },
     "execution_count": 34,
     "metadata": {},
     "output_type": "execute_result"
    },
    {
     "data": {
      "image/png": "[encoded data removed]",
      "text/plain": [
       "<Figure size 432x288 with 1 Axes>"
      ]
     },
     "metadata": {
      "needs_background": "light"
     },
     "output_type": "display_data"
    }
   ],
   "source": [
    "ts_raw.plot()"
   ]
  },
  {
   "cell_type": "code",
   "execution_count": 35,
   "metadata": {},
   "outputs": [
    {
     "data": {
      "text/plain": [
       "<AxesSubplot:xlabel='Time'>"
      ]
     },
     "execution_count": 35,
     "metadata": {},
     "output_type": "execute_result"
    },
    {
     "data": {
      "image/png": "[encoded data removed]",
      "text/plain": [
       "<Figure size 432x288 with 1 Axes>"
      ]
     },
     "metadata": {
      "needs_background": "light"
     },
     "output_type": "display_data"
    }
   ],
   "source": [
    "ts_nulls.interpolate(method='bfill', limit=2, limit_area='outside').plot()"
   ]
  },
  {
   "cell_type": "markdown",
   "metadata": {},
   "source": [
    "#### datetime index"
   ]
  },
  {
   "cell_type": "code",
   "execution_count": 36,
   "metadata": {},
   "outputs": [
    {
     "data": {
      "text/plain": [
       "pandas.core.indexes.range.RangeIndex"
      ]
     },
     "execution_count": 36,
     "metadata": {},
     "output_type": "execute_result"
    }
   ],
   "source": [
    "df = pd.DataFrame(data=[[0,1,2]])\n",
    "type(df.index)"
   ]
  },
  {
   "cell_type": "code",
   "execution_count": 37,
   "metadata": {},
   "outputs": [
    {
     "data": {
      "text/plain": [
       "int"
      ]
     },
     "execution_count": 37,
     "metadata": {},
     "output_type": "execute_result"
    }
   ],
   "source": [
    "i = df.index[0]\n",
    "type(i)"
   ]
  },
  {
   "cell_type": "code",
   "execution_count": 38,
   "metadata": {},
   "outputs": [
    {
     "data": {
      "text/plain": [
       "0"
      ]
     },
     "execution_count": 38,
     "metadata": {},
     "output_type": "execute_result"
    }
   ],
   "source": [
    "i"
   ]
  },
  {
   "cell_type": "code",
   "execution_count": 39,
   "metadata": {},
   "outputs": [
    {
     "data": {
      "text/plain": [
       "pandas.core.indexes.datetimes.DatetimeIndex"
      ]
     },
     "execution_count": 39,
     "metadata": {},
     "output_type": "execute_result"
    }
   ],
   "source": [
    "type(raw.index)"
   ]
  },
  {
   "cell_type": "code",
   "execution_count": 40,
   "metadata": {},
   "outputs": [
    {
     "data": {
      "text/plain": [
       "pandas._libs.tslibs.timestamps.Timestamp"
      ]
     },
     "execution_count": 40,
     "metadata": {},
     "output_type": "execute_result"
    }
   ],
   "source": [
    "t = raw.index[0]\n",
    "type(t)"
   ]
  },
  {
   "cell_type": "code",
   "execution_count": 41,
   "metadata": {},
   "outputs": [
    {
     "data": {
      "text/plain": [
       "Timestamp('2020-01-01 00:00:00')"
      ]
     },
     "execution_count": 41,
     "metadata": {},
     "output_type": "execute_result"
    }
   ],
   "source": [
    "t"
   ]
  },
  {
   "cell_type": "code",
   "execution_count": 42,
   "metadata": {},
   "outputs": [
    {
     "data": {
      "text/plain": [
       "0"
      ]
     },
     "execution_count": 42,
     "metadata": {},
     "output_type": "execute_result"
    }
   ],
   "source": [
    "t.hour"
   ]
  },
  {
   "cell_type": "code",
   "execution_count": 43,
   "metadata": {},
   "outputs": [
    {
     "data": {
      "text/plain": [
       "DatetimeIndex(['2020-02-01 01:01:00', '2020-02-01 01:02:00',\n",
       "               '2020-02-01 01:03:00', '2020-02-01 01:04:00',\n",
       "               '2020-02-01 01:05:00', '2020-02-01 01:06:00',\n",
       "               '2020-02-01 01:07:00', '2020-02-01 01:08:00',\n",
       "               '2020-02-01 01:09:00', '2020-02-01 01:10:00',\n",
       "               ...\n",
       "               '2020-03-01 00:51:00', '2020-03-01 00:52:00',\n",
       "               '2020-03-01 00:53:00', '2020-03-01 00:54:00',\n",
       "               '2020-03-01 00:55:00', '2020-03-01 00:56:00',\n",
       "               '2020-03-01 00:57:00', '2020-03-01 00:58:00',\n",
       "               '2020-03-01 00:59:00', '2020-03-01 01:00:00'],\n",
       "              dtype='datetime64[ns]', name='Time', length=44640, freq=None)"
      ]
     },
     "execution_count": 43,
     "metadata": {},
     "output_type": "execute_result"
    }
   ],
   "source": [
    "raw.index + pd.DateOffset(hours=1, minutes=1, months=1)"
   ]
  },
  {
   "cell_type": "code",
   "execution_count": 44,
   "metadata": {},
   "outputs": [
    {
     "data": {
      "text/plain": [
       "DatetimeIndex(['2020-01-01 00:00:00', '2020-01-01 00:00:01',\n",
       "               '2020-01-01 00:00:02', '2020-01-01 00:00:03',\n",
       "               '2020-01-01 00:00:04', '2020-01-01 00:00:05',\n",
       "               '2020-01-01 00:00:06', '2020-01-01 00:00:07',\n",
       "               '2020-01-01 00:00:08', '2020-01-01 00:00:09',\n",
       "               '2020-01-01 00:00:10', '2020-01-01 00:00:11',\n",
       "               '2020-01-01 00:00:12', '2020-01-01 00:00:13',\n",
       "               '2020-01-01 00:00:14', '2020-01-01 00:00:15',\n",
       "               '2020-01-01 00:00:16', '2020-01-01 00:00:17',\n",
       "               '2020-01-01 00:00:18', '2020-01-01 00:00:19',\n",
       "               '2020-01-01 00:00:20', '2020-01-01 00:00:21',\n",
       "               '2020-01-01 00:00:22', '2020-01-01 00:00:23',\n",
       "               '2020-01-01 00:00:24', '2020-01-01 00:00:25',\n",
       "               '2020-01-01 00:00:26', '2020-01-01 00:00:27',\n",
       "               '2020-01-01 00:00:28', '2020-01-01 00:00:29',\n",
       "               '2020-01-01 00:00:30', '2020-01-01 00:00:31',\n",
       "               '2020-01-01 00:00:32', '2020-01-01 00:00:33',\n",
       "               '2020-01-01 00:00:34', '2020-01-01 00:00:35',\n",
       "               '2020-01-01 00:00:36', '2020-01-01 00:00:37',\n",
       "               '2020-01-01 00:00:38', '2020-01-01 00:00:39',\n",
       "               '2020-01-01 00:00:40', '2020-01-01 00:00:41',\n",
       "               '2020-01-01 00:00:42', '2020-01-01 00:00:43',\n",
       "               '2020-01-01 00:00:44', '2020-01-01 00:00:45',\n",
       "               '2020-01-01 00:00:46', '2020-01-01 00:00:47',\n",
       "               '2020-01-01 00:00:48', '2020-01-01 00:00:49',\n",
       "               '2020-01-01 00:00:50', '2020-01-01 00:00:51',\n",
       "               '2020-01-01 00:00:52', '2020-01-01 00:00:53',\n",
       "               '2020-01-01 00:00:54', '2020-01-01 00:00:55',\n",
       "               '2020-01-01 00:00:56', '2020-01-01 00:00:57',\n",
       "               '2020-01-01 00:00:58', '2020-01-01 00:00:59',\n",
       "               '2020-01-01 00:01:00'],\n",
       "              dtype='datetime64[ns]', freq='S')"
      ]
     },
     "execution_count": 44,
     "metadata": {},
     "output_type": "execute_result"
    }
   ],
   "source": [
    "pd.date_range(\n",
    "            start= t, \n",
    "            end = t + pd.DateOffset(hours=0, minutes=1),  \n",
    "            freq='s')"
   ]
  },
  {
   "cell_type": "code",
   "execution_count": 45,
   "metadata": {},
   "outputs": [
    {
     "data": {
      "text/html": [
       "<div>\n",
       "<style scoped>\n",
       "    .dataframe tbody tr th:only-of-type {\n",
       "        vertical-align: middle;\n",
       "    }\n",
       "\n",
       "    .dataframe tbody tr th {\n",
       "        vertical-align: top;\n",
       "    }\n",
       "\n",
       "    .dataframe thead th {\n",
       "        text-align: right;\n",
       "    }\n",
       "</style>\n",
       "<table border=\"1\" class=\"dataframe\">\n",
       "  <thead>\n",
       "    <tr style=\"text-align: right;\">\n",
       "      <th></th>\n",
       "      <th>sensors1</th>\n",
       "    </tr>\n",
       "  </thead>\n",
       "  <tbody>\n",
       "    <tr>\n",
       "      <th>2020-01-01 00:00:00</th>\n",
       "      <td>NaN</td>\n",
       "    </tr>\n",
       "    <tr>\n",
       "      <th>2020-01-01 00:00:01</th>\n",
       "      <td>NaN</td>\n",
       "    </tr>\n",
       "    <tr>\n",
       "      <th>2020-01-01 00:00:02</th>\n",
       "      <td>NaN</td>\n",
       "    </tr>\n",
       "    <tr>\n",
       "      <th>2020-01-01 00:00:03</th>\n",
       "      <td>NaN</td>\n",
       "    </tr>\n",
       "    <tr>\n",
       "      <th>2020-01-01 00:00:04</th>\n",
       "      <td>NaN</td>\n",
       "    </tr>\n",
       "    <tr>\n",
       "      <th>...</th>\n",
       "      <td>...</td>\n",
       "    </tr>\n",
       "    <tr>\n",
       "      <th>2020-01-01 00:00:56</th>\n",
       "      <td>NaN</td>\n",
       "    </tr>\n",
       "    <tr>\n",
       "      <th>2020-01-01 00:00:57</th>\n",
       "      <td>NaN</td>\n",
       "    </tr>\n",
       "    <tr>\n",
       "      <th>2020-01-01 00:00:58</th>\n",
       "      <td>NaN</td>\n",
       "    </tr>\n",
       "    <tr>\n",
       "      <th>2020-01-01 00:00:59</th>\n",
       "      <td>NaN</td>\n",
       "    </tr>\n",
       "    <tr>\n",
       "      <th>2020-01-01 00:01:00</th>\n",
       "      <td>NaN</td>\n",
       "    </tr>\n",
       "  </tbody>\n",
       "</table>\n",
       "<p>61 rows × 1 columns</p>\n",
       "</div>"
      ],
      "text/plain": [
       "                    sensors1\n",
       "2020-01-01 00:00:00      NaN\n",
       "2020-01-01 00:00:01      NaN\n",
       "2020-01-01 00:00:02      NaN\n",
       "2020-01-01 00:00:03      NaN\n",
       "2020-01-01 00:00:04      NaN\n",
       "...                      ...\n",
       "2020-01-01 00:00:56      NaN\n",
       "2020-01-01 00:00:57      NaN\n",
       "2020-01-01 00:00:58      NaN\n",
       "2020-01-01 00:00:59      NaN\n",
       "2020-01-01 00:01:00      NaN\n",
       "\n",
       "[61 rows x 1 columns]"
      ]
     },
     "execution_count": 45,
     "metadata": {},
     "output_type": "execute_result"
    }
   ],
   "source": [
    "pd.DataFrame(index=pd.date_range(start= t, \n",
    "            end = t + pd.DateOffset(hours=0, minutes=1), \n",
    "            freq='s', \n",
    "            ), columns =['sensors1'])"
   ]
  },
  {
   "cell_type": "markdown",
   "metadata": {},
   "source": [
    "### Plotting objects"
   ]
  },
  {
   "cell_type": "code",
   "execution_count": 46,
   "metadata": {},
   "outputs": [
    {
     "data": {
      "text/plain": [
       "Time\n",
       "2020-01-01 00:00:00    31.11716\n",
       "2020-01-01 00:01:00    31.11716\n",
       "2020-01-01 00:02:00    32.08894\n",
       "2020-01-01 00:03:00    31.67221\n",
       "2020-01-01 00:04:00    31.95202\n",
       "2020-01-01 00:05:00    32.23816\n",
       "2020-01-01 00:06:00    32.00982\n",
       "2020-01-01 00:07:00    31.88320\n",
       "2020-01-01 00:08:00    32.09234\n",
       "2020-01-01 00:09:00    32.25679\n",
       "Name: Temperature, dtype: float64"
      ]
     },
     "execution_count": 46,
     "metadata": {},
     "output_type": "execute_result"
    }
   ],
   "source": [
    "ts_raw"
   ]
  },
  {
   "cell_type": "markdown",
   "metadata": {},
   "source": [
    "Plot using matplotlib figure"
   ]
  },
  {
   "cell_type": "code",
   "execution_count": 47,
   "metadata": {},
   "outputs": [
    {
     "data": {
      "text/plain": [
       "[<matplotlib.lines.Line2D at 0x21630635910>]"
      ]
     },
     "execution_count": 47,
     "metadata": {},
     "output_type": "execute_result"
    },
    {
     "data": {
      "image/png": "[encoded data removed]",
      "text/plain": [
       "<Figure size 864x288 with 1 Axes>"
      ]
     },
     "metadata": {
      "needs_background": "light"
     },
     "output_type": "display_data"
    }
   ],
   "source": [
    "fig, ax = plt.subplots(figsize=(12,4))\n",
    "ax.plot(ts_raw.values)"
   ]
  },
  {
   "cell_type": "code",
   "execution_count": 48,
   "metadata": {},
   "outputs": [
    {
     "data": {
      "text/plain": [
       "(matplotlib.figure.Figure, matplotlib.axes._subplots.AxesSubplot)"
      ]
     },
     "execution_count": 48,
     "metadata": {},
     "output_type": "execute_result"
    }
   ],
   "source": [
    "type(fig), type(ax)"
   ]
  },
  {
   "cell_type": "code",
   "execution_count": 49,
   "metadata": {},
   "outputs": [
    {
     "data": {
      "text/plain": [
       "matplotlib.figure.Figure"
      ]
     },
     "execution_count": 49,
     "metadata": {},
     "output_type": "execute_result"
    }
   ],
   "source": [
    "type(ax.figure)"
   ]
  },
  {
   "cell_type": "code",
   "execution_count": 50,
   "metadata": {},
   "outputs": [
    {
     "data": {
      "text/plain": [
       "True"
      ]
     },
     "execution_count": 50,
     "metadata": {},
     "output_type": "execute_result"
    }
   ],
   "source": [
    "ax.figure == fig"
   ]
  },
  {
   "cell_type": "code",
   "execution_count": 51,
   "metadata": {},
   "outputs": [
    {
     "data": {
      "text/plain": [
       "[<AxesSubplot:>]"
      ]
     },
     "execution_count": 51,
     "metadata": {},
     "output_type": "execute_result"
    }
   ],
   "source": [
    "fig.axes"
   ]
  },
  {
   "cell_type": "code",
   "execution_count": 52,
   "metadata": {},
   "outputs": [
    {
     "data": {
      "text/plain": [
       "True"
      ]
     },
     "execution_count": 52,
     "metadata": {},
     "output_type": "execute_result"
    }
   ],
   "source": [
    "fig.axes[0] == ax"
   ]
  },
  {
   "cell_type": "markdown",
   "metadata": {},
   "source": [
    "Plotting without making a figure"
   ]
  },
  {
   "cell_type": "code",
   "execution_count": 53,
   "metadata": {},
   "outputs": [
    {
     "data": {
      "image/png": "[encoded data removed]",
      "text/plain": [
       "<Figure size 432x288 with 1 Axes>"
      ]
     },
     "metadata": {
      "needs_background": "light"
     },
     "output_type": "display_data"
    }
   ],
   "source": [
    "X = plt.plot(ts_raw)[0]"
   ]
  },
  {
   "cell_type": "code",
   "execution_count": 54,
   "metadata": {},
   "outputs": [
    {
     "data": {
      "text/plain": [
       "<matplotlib.lines.Line2D at 0x21633253700>"
      ]
     },
     "execution_count": 54,
     "metadata": {},
     "output_type": "execute_result"
    }
   ],
   "source": [
    "X"
   ]
  },
  {
   "cell_type": "code",
   "execution_count": 55,
   "metadata": {},
   "outputs": [
    {
     "data": {
      "text/plain": [
       "matplotlib.lines.Line2D"
      ]
     },
     "execution_count": 55,
     "metadata": {},
     "output_type": "execute_result"
    }
   ],
   "source": [
    "type(X)"
   ]
  },
  {
   "cell_type": "code",
   "execution_count": 56,
   "metadata": {},
   "outputs": [
    {
     "data": {
      "text/plain": [
       "<AxesSubplot:>"
      ]
     },
     "execution_count": 56,
     "metadata": {},
     "output_type": "execute_result"
    }
   ],
   "source": [
    "X.axes"
   ]
  },
  {
   "cell_type": "code",
   "execution_count": 57,
   "metadata": {},
   "outputs": [
    {
     "data": {
      "text/plain": [
       "matplotlib.figure.Figure"
      ]
     },
     "execution_count": 57,
     "metadata": {},
     "output_type": "execute_result"
    }
   ],
   "source": [
    "type(X.axes.figure)"
   ]
  },
  {
   "cell_type": "markdown",
   "metadata": {},
   "source": [
    "Plotting with seaborn"
   ]
  },
  {
   "cell_type": "code",
   "execution_count": 58,
   "metadata": {},
   "outputs": [],
   "source": [
    "import seaborn as sns"
   ]
  },
  {
   "cell_type": "code",
   "execution_count": 59,
   "metadata": {},
   "outputs": [
    {
     "data": {
      "image/png": "[encoded data removed]",
      "text/plain": [
       "<Figure size 432x288 with 1 Axes>"
      ]
     },
     "metadata": {
      "needs_background": "light"
     },
     "output_type": "display_data"
    }
   ],
   "source": [
    "X = sns.lineplot(data=ts_raw)"
   ]
  },
  {
   "cell_type": "code",
   "execution_count": 60,
   "metadata": {},
   "outputs": [
    {
     "data": {
      "text/plain": [
       "matplotlib.axes._subplots.AxesSubplot"
      ]
     },
     "execution_count": 60,
     "metadata": {},
     "output_type": "execute_result"
    }
   ],
   "source": [
    "type(X)"
   ]
  },
  {
   "cell_type": "code",
   "execution_count": 61,
   "metadata": {},
   "outputs": [
    {
     "data": {
      "image/png": "[encoded data removed]",
      "text/plain": [
       "<Figure size 864x288 with 1 Axes>"
      ]
     },
     "metadata": {
      "needs_background": "light"
     },
     "output_type": "display_data"
    }
   ],
   "source": [
    "fig, ax = plt.subplots(figsize=(12,4))\n",
    "X = sns.lineplot(data=ts_raw, ax=ax)"
   ]
  },
  {
   "cell_type": "code",
   "execution_count": 62,
   "metadata": {},
   "outputs": [
    {
     "data": {
      "text/plain": [
       "<AxesSubplot:xlabel='Time', ylabel='Temperature'>"
      ]
     },
     "execution_count": 62,
     "metadata": {},
     "output_type": "execute_result"
    }
   ],
   "source": [
    "X"
   ]
  },
  {
   "cell_type": "markdown",
   "metadata": {},
   "source": [
    "Subplots"
   ]
  },
  {
   "cell_type": "code",
   "execution_count": 63,
   "metadata": {},
   "outputs": [
    {
     "data": {
      "text/plain": [
       "array([[<AxesSubplot:>, <AxesSubplot:>],\n",
       "       [<AxesSubplot:>, <AxesSubplot:>]], dtype=object)"
      ]
     },
     "execution_count": 63,
     "metadata": {},
     "output_type": "execute_result"
    },
    {
     "data": {
      "image/png": "[encoded data removed]",
      "text/plain": [
       "<Figure size 720x432 with 4 Axes>"
      ]
     },
     "metadata": {
      "needs_background": "light"
     },
     "output_type": "display_data"
    }
   ],
   "source": [
    "fig, axes = plt.subplots(figsize=(10,6), ncols=2, nrows=2)\n",
    "axes"
   ]
  },
  {
   "cell_type": "code",
   "execution_count": 64,
   "metadata": {},
   "outputs": [
    {
     "data": {
      "text/plain": [
       "<AxesSubplot:xlabel='Time', ylabel='Temperature'>"
      ]
     },
     "execution_count": 64,
     "metadata": {},
     "output_type": "execute_result"
    },
    {
     "data": {
      "image/png": "[encoded data removed]",
      "text/plain": [
       "<Figure size 864x288 with 4 Axes>"
      ]
     },
     "metadata": {
      "needs_background": "light"
     },
     "output_type": "display_data"
    }
   ],
   "source": [
    "fig, axes = plt.subplots(figsize=(12,4), ncols=2, nrows=2)\n",
    "\n",
    "axes[0][0].plot(ts_raw)\n",
    "\n",
    "axes[0][1].plot(ts_raw, color='r')\n",
    "\n",
    "axes[1][0].plot(ts_raw, linewidth=4, color='r')\n",
    "\n",
    "sns.lineplot(data=ts_raw, ax=axes[1,1])"
   ]
  },
  {
   "cell_type": "code",
   "execution_count": null,
   "metadata": {},
   "outputs": [],
   "source": []
  }
 ],
 "metadata": {
  "kernelspec": {
   "display_name": "Python 3.8.8 ('base')",
   "language": "python",
   "name": "python3"
  },
  "language_info": {
   "codemirror_mode": {
    "name": "ipython",
    "version": 3
   },
   "file_extension": ".py",
   "mimetype": "text/x-python",
   "name": "python",
   "nbconvert_exporter": "python",
   "pygments_lexer": "ipython3",
   "version": "3.8.8"
  },
  "orig_nbformat": 4,
  "vscode": {
   "interpreter": {
    "hash": "88279d2366fe020547cde40dd65aa0e3aa662a6ec1f3ca12d88834876c85e1a6"
   }
  }
 },
 "nbformat": 4,
 "nbformat_minor": 2
}
